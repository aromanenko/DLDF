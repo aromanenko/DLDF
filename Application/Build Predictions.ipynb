{
 "cells": [
  {
   "cell_type": "code",
   "execution_count": 1,
   "id": "1c120db8",
   "metadata": {
    "ExecuteTime": {
     "end_time": "2022-05-17T10:21:00.922842Z",
     "start_time": "2022-05-17T10:21:00.898503Z"
    }
   },
   "outputs": [],
   "source": [
    "%load_ext autoreload\n",
    "%autoreload 2"
   ]
  },
  {
   "cell_type": "code",
   "execution_count": 103,
   "id": "ccc05aa2",
   "metadata": {
    "ExecuteTime": {
     "end_time": "2022-05-17T10:37:33.964327Z",
     "start_time": "2022-05-17T10:37:33.896864Z"
    }
   },
   "outputs": [],
   "source": [
    "from generate_features import *\n",
    "from model_pipeline import *"
   ]
  },
  {
   "cell_type": "code",
   "execution_count": 104,
   "id": "35d085fe",
   "metadata": {
    "ExecuteTime": {
     "end_time": "2022-05-17T10:44:43.483315Z",
     "start_time": "2022-05-17T10:44:43.447199Z"
    }
   },
   "outputs": [],
   "source": [
    "config_filename = 'gen_features_config.json'\n",
    "model_config_filename = 'model_config.json'\n",
    "data_filename = 'data_preprocessed.csv'"
   ]
  },
  {
   "cell_type": "code",
   "execution_count": 105,
   "id": "526bef98",
   "metadata": {
    "ExecuteTime": {
     "end_time": "2022-05-17T10:46:01.082748Z",
     "start_time": "2022-05-17T10:46:00.984691Z"
    }
   },
   "outputs": [],
   "source": [
    "features_json = read_json(config_filename)\n",
    "data = pd.read_csv(data_filename)\n",
    "data[features_json['date_col']] = pd.to_datetime(data[features_json['date_col']], dayfirst=True)"
   ]
  },
  {
   "cell_type": "code",
   "execution_count": 106,
   "id": "e057ac99",
   "metadata": {
    "ExecuteTime": {
     "end_time": "2022-05-17T10:46:25.011189Z",
     "start_time": "2022-05-17T10:46:23.240061Z"
    }
   },
   "outputs": [
    {
     "data": {
      "application/vnd.jupyter.widget-view+json": {
       "model_id": "382dfc27cdd741bf86e85b3e4817ac80",
       "version_major": 2,
       "version_minor": 0
      },
      "text/plain": [
       "IntProgress(value=0, max=1)"
      ]
     },
     "metadata": {},
     "output_type": "display_data"
    }
   ],
   "source": [
    "data_features = generate_lagged_features(data=data,\n",
    "                         target_cols=features_json['target_cols'],\n",
    "                         id_cols=features_json['id_cols'],\n",
    "                         date_col=features_json['date_col'],\n",
    "                         lags=features_json['lags'],\n",
    "                         windows=features_json['windows'],\n",
    "                         preagg_methods=features_json['preagg_methods'],\n",
    "                         agg_methods=features_json['agg_methods'],\n",
    "                         dynamic_filters=features_json['dynamic_filters'],\n",
    "                         ewm_params=features_json['ewm_params']\n",
    "                        )"
   ]
  },
  {
   "cell_type": "code",
   "execution_count": 107,
   "id": "e13c4510",
   "metadata": {
    "scrolled": true
   },
   "outputs": [
    {
     "name": "stdout",
     "output_type": "stream",
     "text": [
      "Choose model:\n"
     ]
    },
    {
     "data": {
      "application/vnd.jupyter.widget-view+json": {
       "model_id": "4e0d88084ce54ceca1a9e7a30febb89f",
       "version_major": 2,
       "version_minor": 0
      },
      "text/plain": [
       "interactive(children=(Dropdown(description='model', options=('LSTM', 'GRU', 'TFT', 'DeepAR', 'NBeats'), value=…"
      ]
     },
     "metadata": {},
     "output_type": "display_data"
    }
   ],
   "source": [
    "choose_model(model_config_filename)"
   ]
  },
  {
   "cell_type": "code",
   "execution_count": 114,
   "id": "85f56aa5",
   "metadata": {},
   "outputs": [
    {
     "name": "stdout",
     "output_type": "stream",
     "text": [
      "Preprocessing:\n"
     ]
    },
    {
     "data": {
      "application/vnd.jupyter.widget-view+json": {
       "model_id": "3cdac7e89db34d83bcbc684d6d52e693",
       "version_major": 2,
       "version_minor": 0
      },
      "text/plain": [
       "  0%|          | 0/2420 [00:00<?, ?it/s]"
      ]
     },
     "metadata": {},
     "output_type": "display_data"
    },
    {
     "name": "stdout",
     "output_type": "stream",
     "text": [
      "Scaling:\n"
     ]
    },
    {
     "data": {
      "application/vnd.jupyter.widget-view+json": {
       "model_id": "c9b5ffb5c72d4f939a0838b6db498f0d",
       "version_major": 2,
       "version_minor": 0
      },
      "text/plain": [
       "  0%|          | 0/10 [00:00<?, ?it/s]"
      ]
     },
     "metadata": {},
     "output_type": "display_data"
    },
    {
     "name": "stdout",
     "output_type": "stream",
     "text": [
      "Training:\n",
      "Epoch 0\n",
      "---------\n"
     ]
    },
    {
     "data": {
      "application/vnd.jupyter.widget-view+json": {
       "model_id": "b90bd24d526b4518b923273a6f614850",
       "version_major": 2,
       "version_minor": 0
      },
      "text/plain": [
       "  0%|          | 0/340 [00:00<?, ?it/s]"
      ]
     },
     "metadata": {},
     "output_type": "display_data"
    },
    {
     "name": "stdout",
     "output_type": "stream",
     "text": [
      "Train loss: 0.6267348054577323\n"
     ]
    },
    {
     "data": {
      "application/vnd.jupyter.widget-view+json": {
       "model_id": "b732b000eba04cd3afd04436113410d7",
       "version_major": 2,
       "version_minor": 0
      },
      "text/plain": [
       "  0%|          | 0/340 [00:00<?, ?it/s]"
      ]
     },
     "metadata": {},
     "output_type": "display_data"
    },
    {
     "name": "stdout",
     "output_type": "stream",
     "text": [
      "Smape = 159.14159284270065\n",
      "\n"
     ]
    },
    {
     "data": {
      "application/vnd.jupyter.widget-view+json": {
       "model_id": "3dee44e89a7a44519075d71c9d1466a1",
       "version_major": 2,
       "version_minor": 0
      },
      "text/plain": [
       "  0%|          | 0/340 [00:00<?, ?it/s]"
      ]
     },
     "metadata": {},
     "output_type": "display_data"
    },
    {
     "data": {
      "application/vnd.jupyter.widget-view+json": {
       "model_id": "583fbaf6aec14e40b2bd15cb5ef0183b",
       "version_major": 2,
       "version_minor": 0
      },
      "text/plain": [
       "  0%|          | 0/12 [00:00<?, ?it/s]"
      ]
     },
     "metadata": {},
     "output_type": "display_data"
    }
   ],
   "source": [
    "model_config = read_json(model_config_filename)\n",
    "res_test = pipeline(data_features, model_config)"
   ]
  },
  {
   "cell_type": "code",
   "execution_count": 10,
   "id": "c1e28fb9",
   "metadata": {},
   "outputs": [],
   "source": [
    "res_test[model_config['target']].to_csv('ans.csv', index_label='id')"
   ]
  },
  {
   "cell_type": "code",
   "execution_count": null,
   "id": "450b52aa",
   "metadata": {},
   "outputs": [],
   "source": []
  }
 ],
 "metadata": {
  "kernelspec": {
   "display_name": "Python 3 (ipykernel)",
   "language": "python",
   "name": "python3"
  },
  "language_info": {
   "codemirror_mode": {
    "name": "ipython",
    "version": 3
   },
   "file_extension": ".py",
   "mimetype": "text/x-python",
   "name": "python",
   "nbconvert_exporter": "python",
   "pygments_lexer": "ipython3",
   "version": "3.8.8"
  },
  "toc": {
   "base_numbering": 1,
   "nav_menu": {},
   "number_sections": true,
   "sideBar": true,
   "skip_h1_title": false,
   "title_cell": "Table of Contents",
   "title_sidebar": "Contents",
   "toc_cell": false,
   "toc_position": {},
   "toc_section_display": true,
   "toc_window_display": false
  }
 },
 "nbformat": 4,
 "nbformat_minor": 5
}
