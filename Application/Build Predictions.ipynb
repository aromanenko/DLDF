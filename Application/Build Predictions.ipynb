{
 "cells": [
  {
   "cell_type": "code",
   "execution_count": 1,
   "id": "1c120db8",
   "metadata": {
    "ExecuteTime": {
     "end_time": "2022-05-17T10:21:00.922842Z",
     "start_time": "2022-05-17T10:21:00.898503Z"
    }
   },
   "outputs": [],
   "source": [
    "%load_ext autoreload\n",
    "%autoreload 2"
   ]
  },
  {
   "cell_type": "code",
   "execution_count": 29,
   "id": "ccc05aa2",
   "metadata": {
    "ExecuteTime": {
     "end_time": "2022-05-17T10:37:33.964327Z",
     "start_time": "2022-05-17T10:37:33.896864Z"
    }
   },
   "outputs": [],
   "source": [
    "from generate_features import *"
   ]
  },
  {
   "cell_type": "code",
   "execution_count": 45,
   "id": "35d085fe",
   "metadata": {
    "ExecuteTime": {
     "end_time": "2022-05-17T10:44:43.483315Z",
     "start_time": "2022-05-17T10:44:43.447199Z"
    }
   },
   "outputs": [],
   "source": [
    "config_filename = 'gen_features_config.json'\n",
    "data_filename = 'data_preprocessed.csv'"
   ]
  },
  {
   "cell_type": "code",
   "execution_count": 52,
   "id": "526bef98",
   "metadata": {
    "ExecuteTime": {
     "end_time": "2022-05-17T10:46:01.082748Z",
     "start_time": "2022-05-17T10:46:00.984691Z"
    }
   },
   "outputs": [],
   "source": [
    "features_json = read_json(config_filename)\n",
    "data = pd.read_csv(data_filename)\n",
    "data[features_json['date_col']] = pd.to_datetime(data[features_json['date_col']], dayfirst=True)"
   ]
  },
  {
   "cell_type": "code",
   "execution_count": 54,
   "id": "e057ac99",
   "metadata": {
    "ExecuteTime": {
     "end_time": "2022-05-17T10:46:25.011189Z",
     "start_time": "2022-05-17T10:46:23.240061Z"
    }
   },
   "outputs": [
    {
     "data": {
      "application/vnd.jupyter.widget-view+json": {
       "model_id": "e3d49267965a4840a1ff5006032fe4c4",
       "version_major": 2,
       "version_minor": 0
      },
      "text/plain": [
       "IntProgress(value=0, max=1)"
      ]
     },
     "metadata": {},
     "output_type": "display_data"
    }
   ],
   "source": [
    "data_features = generate_lagged_features(data=data,\n",
    "                         target_cols=features_json['target_cols'],\n",
    "                         id_cols=features_json['id_cols'],\n",
    "                         date_col=features_json['date_col'],\n",
    "                         lags=features_json['lags'],\n",
    "                         windows=features_json['windows'],\n",
    "                         preagg_methods=features_json['preagg_methods'],\n",
    "                         agg_methods=features_json['agg_methods'],\n",
    "                         dynamic_filters=features_json['dynamic_filters'],\n",
    "                         ewm_params=features_json['ewm_params']\n",
    "                        )"
   ]
  },
  {
   "cell_type": "code",
   "execution_count": null,
   "id": "8b5945a9",
   "metadata": {},
   "outputs": [],
   "source": [
    "### build models?"
   ]
  }
 ],
 "metadata": {
  "kernelspec": {
   "display_name": "Python 3 (ipykernel)",
   "language": "python",
   "name": "python3"
  },
  "language_info": {
   "codemirror_mode": {
    "name": "ipython",
    "version": 3
   },
   "file_extension": ".py",
   "mimetype": "text/x-python",
   "name": "python",
   "nbconvert_exporter": "python",
   "pygments_lexer": "ipython3",
   "version": "3.9.7"
  },
  "toc": {
   "base_numbering": 1,
   "nav_menu": {},
   "number_sections": true,
   "sideBar": true,
   "skip_h1_title": false,
   "title_cell": "Table of Contents",
   "title_sidebar": "Contents",
   "toc_cell": false,
   "toc_position": {},
   "toc_section_display": true,
   "toc_window_display": false
  }
 },
 "nbformat": 4,
 "nbformat_minor": 5
}
