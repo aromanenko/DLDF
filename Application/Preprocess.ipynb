{
 "cells": [
  {
   "cell_type": "code",
   "execution_count": 2,
   "id": "08a58fd1",
   "metadata": {
    "ExecuteTime": {
     "end_time": "2022-05-20T19:22:38.818561Z",
     "start_time": "2022-05-20T19:22:38.753934Z"
    }
   },
   "outputs": [],
   "source": [
    "import pandas as pd\n",
    "\n",
    "data = pd.read_csv('data_kaggle.csv')"
   ]
  },
  {
   "cell_type": "code",
   "execution_count": 4,
   "id": "e9d1eeac",
   "metadata": {
    "ExecuteTime": {
     "end_time": "2022-05-20T19:23:02.348849Z",
     "start_time": "2022-05-20T19:23:02.263063Z"
    }
   },
   "outputs": [
    {
     "data": {
      "text/html": [
       "<div>\n",
       "<style scoped>\n",
       "    .dataframe tbody tr th:only-of-type {\n",
       "        vertical-align: middle;\n",
       "    }\n",
       "\n",
       "    .dataframe tbody tr th {\n",
       "        vertical-align: top;\n",
       "    }\n",
       "\n",
       "    .dataframe thead th {\n",
       "        text-align: right;\n",
       "    }\n",
       "</style>\n",
       "<table border=\"1\" class=\"dataframe\">\n",
       "  <thead>\n",
       "    <tr style=\"text-align: right;\">\n",
       "      <th></th>\n",
       "      <th>Date</th>\n",
       "      <th>Store_id</th>\n",
       "      <th>SKU_id</th>\n",
       "      <th>Promo</th>\n",
       "      <th>Demand</th>\n",
       "      <th>Regular_Price</th>\n",
       "      <th>Actual_Price</th>\n",
       "      <th>Promo_percent</th>\n",
       "      <th>weekday</th>\n",
       "      <th>monthday</th>\n",
       "      <th>is_weekend</th>\n",
       "      <th>month_period</th>\n",
       "    </tr>\n",
       "  </thead>\n",
       "  <tbody>\n",
       "    <tr>\n",
       "      <th>0</th>\n",
       "      <td>2015-01-01</td>\n",
       "      <td>1</td>\n",
       "      <td>1</td>\n",
       "      <td>0.0</td>\n",
       "      <td>22.0</td>\n",
       "      <td>163.78</td>\n",
       "      <td>163.78</td>\n",
       "      <td>0.0</td>\n",
       "      <td>3</td>\n",
       "      <td>1</td>\n",
       "      <td>0</td>\n",
       "      <td>0</td>\n",
       "    </tr>\n",
       "    <tr>\n",
       "      <th>1</th>\n",
       "      <td>2015-01-01</td>\n",
       "      <td>19</td>\n",
       "      <td>1</td>\n",
       "      <td>0.0</td>\n",
       "      <td>25.0</td>\n",
       "      <td>163.78</td>\n",
       "      <td>163.78</td>\n",
       "      <td>0.0</td>\n",
       "      <td>3</td>\n",
       "      <td>1</td>\n",
       "      <td>0</td>\n",
       "      <td>0</td>\n",
       "    </tr>\n",
       "    <tr>\n",
       "      <th>2</th>\n",
       "      <td>2015-01-01</td>\n",
       "      <td>39</td>\n",
       "      <td>2</td>\n",
       "      <td>0.0</td>\n",
       "      <td>3.0</td>\n",
       "      <td>135.78</td>\n",
       "      <td>135.78</td>\n",
       "      <td>0.0</td>\n",
       "      <td>3</td>\n",
       "      <td>1</td>\n",
       "      <td>0</td>\n",
       "      <td>0</td>\n",
       "    </tr>\n",
       "    <tr>\n",
       "      <th>3</th>\n",
       "      <td>2015-01-01</td>\n",
       "      <td>40</td>\n",
       "      <td>2</td>\n",
       "      <td>0.0</td>\n",
       "      <td>0.0</td>\n",
       "      <td>135.78</td>\n",
       "      <td>135.78</td>\n",
       "      <td>0.0</td>\n",
       "      <td>3</td>\n",
       "      <td>1</td>\n",
       "      <td>0</td>\n",
       "      <td>0</td>\n",
       "    </tr>\n",
       "    <tr>\n",
       "      <th>4</th>\n",
       "      <td>2015-01-01</td>\n",
       "      <td>18</td>\n",
       "      <td>1</td>\n",
       "      <td>0.0</td>\n",
       "      <td>13.0</td>\n",
       "      <td>163.78</td>\n",
       "      <td>163.78</td>\n",
       "      <td>0.0</td>\n",
       "      <td>3</td>\n",
       "      <td>1</td>\n",
       "      <td>0</td>\n",
       "      <td>0</td>\n",
       "    </tr>\n",
       "  </tbody>\n",
       "</table>\n",
       "</div>"
      ],
      "text/plain": [
       "        Date  Store_id  SKU_id  Promo  Demand  Regular_Price  Actual_Price  \\\n",
       "0 2015-01-01         1       1    0.0    22.0         163.78        163.78   \n",
       "1 2015-01-01        19       1    0.0    25.0         163.78        163.78   \n",
       "2 2015-01-01        39       2    0.0     3.0         135.78        135.78   \n",
       "3 2015-01-01        40       2    0.0     0.0         135.78        135.78   \n",
       "4 2015-01-01        18       1    0.0    13.0         163.78        163.78   \n",
       "\n",
       "   Promo_percent  weekday  monthday  is_weekend  month_period  \n",
       "0            0.0        3         1           0             0  \n",
       "1            0.0        3         1           0             0  \n",
       "2            0.0        3         1           0             0  \n",
       "3            0.0        3         1           0             0  \n",
       "4            0.0        3         1           0             0  "
      ]
     },
     "execution_count": 4,
     "metadata": {},
     "output_type": "execute_result"
    }
   ],
   "source": [
    "data['Date'] = pd.to_datetime(data['Date'], dayfirst=True)\n",
    "data.set_index(['Date'], inplace=True)\n",
    "data['Promo'] = data['Promo'].fillna(0)\n",
    "data.reset_index().set_index(['SKU_id', 'Store_id', 'Date'], inplace=True)\n",
    "data['Regular_Price'] = data['Regular_Price'].ffill().bfill()\n",
    "data.reset_index().set_index(['Date'], inplace=True)\n",
    "\n",
    "# add actual price (promo price when promo occurred or regular price otherwise)\n",
    "\n",
    "data['Actual_Price'] = data['Promo_Price'].combine_first(data['Regular_Price'])\n",
    "data['Promo_percent'] = (1 - (data['Actual_Price'] / data['Regular_Price']))\n",
    "data = data.drop('Promo_Price', axis=1)\n",
    "\n",
    "data.reset_index(inplace=True)\n",
    "data[\"weekday\"] = data['Date'].dt.weekday\n",
    "data[\"monthday\"] = data['Date'].dt.day\n",
    "data['is_weekend'] = data['weekday'].isin([5, 6]) * 1\n",
    "data['month_period'] = 0\n",
    "data.loc[data['monthday'] >= 15, 'month_period'] = 1\n",
    "\n",
    "data.head()"
   ]
  },
  {
   "cell_type": "code",
   "execution_count": 5,
   "id": "737c3ec2",
   "metadata": {
    "ExecuteTime": {
     "end_time": "2022-05-20T19:23:22.118347Z",
     "start_time": "2022-05-20T19:23:21.225825Z"
    }
   },
   "outputs": [],
   "source": [
    "data.to_csv('data_preprocessed.csv', index=False)"
   ]
  },
  {
   "cell_type": "code",
   "execution_count": null,
   "id": "5d36f0de",
   "metadata": {},
   "outputs": [],
   "source": []
  }
 ],
 "metadata": {
  "kernelspec": {
   "display_name": "Python 3 (ipykernel)",
   "language": "python",
   "name": "python3"
  },
  "language_info": {
   "codemirror_mode": {
    "name": "ipython",
    "version": 3
   },
   "file_extension": ".py",
   "mimetype": "text/x-python",
   "name": "python",
   "nbconvert_exporter": "python",
   "pygments_lexer": "ipython3",
   "version": "3.9.7"
  },
  "toc": {
   "base_numbering": 1,
   "nav_menu": {},
   "number_sections": true,
   "sideBar": true,
   "skip_h1_title": false,
   "title_cell": "Table of Contents",
   "title_sidebar": "Contents",
   "toc_cell": false,
   "toc_position": {},
   "toc_section_display": true,
   "toc_window_display": false
  }
 },
 "nbformat": 4,
 "nbformat_minor": 5
}
