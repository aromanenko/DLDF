{
 "cells": [
  {
   "cell_type": "code",
   "execution_count": 52,
   "metadata": {
    "id": "ckE4FAWkFB2E"
   },
   "outputs": [],
   "source": [
    "import numpy as np\n",
    "import pandas as pd\n",
    "import matplotlib.pyplot as plt\n",
    "import seaborn as sns\n",
    "import sklearn as skl\n",
    "from datetime import date\n",
    "import scipy\n",
    "\n",
    "\n",
    "import tensorflow as tf\n",
    "\n",
    "import matplotlib as mpl\n",
    "import os\n",
    "import plotly.graph_objects as go\n",
    "from prettytable import PrettyTable\n",
    "\n",
    "from sklearn.preprocessing import MinMaxScaler\n",
    "from keras.preprocessing.sequence import TimeseriesGenerator\n",
    "\n",
    "from IPython.display import clear_output\n",
    "\n",
    "import warnings\n",
    "warnings.filterwarnings('ignore')"
   ]
  },
  {
   "cell_type": "markdown",
   "metadata": {
    "id": "ctgkgOZrFB2I"
   },
   "source": [
    "### Теоретический план пайплайна\n",
    "\n",
    "1. Загрузка данных\n",
    "2. Предобработка\n",
    "3. Разделение на train и test, формирование батчей\n",
    "4. Обучение модели \n",
    "5. Отрисовка графиков и метрик \n",
    "6. Подготовка сабмита\n",
    "\n",
    "---\n",
    "\n",
    "### Реализация пайплайна со всеми необходимыми методами\n",
    "\n",
    "Для работы небходимо загрузить `train.csv` и `process.py`"
   ]
  },
  {
   "cell_type": "code",
   "execution_count": 53,
   "metadata": {
    "id": "dsS-KMW7FB2H"
   },
   "outputs": [],
   "source": [
    "from process import process as prc\n",
    "from process import fix_nan\n",
    "from process import SMAPE, WAPE"
   ]
  },
  {
   "cell_type": "code",
   "execution_count": 55,
   "metadata": {
    "id": "9akSCO7nFB2J"
   },
   "outputs": [],
   "source": [
    "class Pipeline:\n",
    "    modify_list = []\n",
    "    batch_len = 52\n",
    "    train_lim = 105\n",
    "    metrics = {\"mse\": lambda x,y:((x-y)**2).sum(),\n",
    "              \"wape\": WAPE,\n",
    "              \"smape\":SMAPE}\n",
    "    \n",
    "    def set_path(self, path):\n",
    "        \"\"\"\n",
    "        Загрузка данных.\n",
    "        :path - локальный путь до файла csv\n",
    "        \"\"\"\n",
    "        self.data_path = path\n",
    "        self.raw_data = pd.read_csv(path)\n",
    "        self.non_na_data = self.raw_data\n",
    "\n",
    "    def process(self, **kwargs):\n",
    "        \"\"\"\n",
    "        Предобаботка датасета.\n",
    "        :**kwargs - параметры для генерации необходимых фичей\n",
    "        \"\"\"\n",
    "        self.data = self.non_na_data\n",
    "        self.data['period_start_dt'] = pd.to_datetime(self.data['period_start_dt'])\n",
    "        self.data = prc(self.data, **kwargs)\n",
    "        self.data = self.data.set_index('Unnamed: 0')\n",
    "        self.split()\n",
    "\n",
    "        self.train = self.train.drop('period_start_dt',axis=1).fillna(0.0)\n",
    "        self.test = self.test.drop(['demand'], axis=1).fillna(0.0)\n",
    "        \n",
    "    def compile_train_ds(self):\n",
    "        \"\"\"\n",
    "        Подготовка батчей для обучения модели для train датасета\n",
    "        \"\"\"\n",
    "        def split(ds, scaler):\n",
    "            y = ds.demand.values.reshape(-1, 1)\n",
    "            x = scaler.fit_transform(ds.drop('demand',axis=1))\n",
    "            #x = ds.drop('demand',axis=1).values\n",
    "            ts = TimeseriesGenerator(x[:self.train_lim], y[:self.train_lim], 10) \n",
    "            return ts, x, y, ds\n",
    "\n",
    "        def make_ds(dataset):\n",
    "            g = dataset.groupby(['product_rk','store_location_rk'])\n",
    "            gg = np.array(g)[:,1]\n",
    "            scalers = []\n",
    "            for i in range(gg.shape[0]):\n",
    "                if gg[i].shape[0] <= 10:\n",
    "                    continue\n",
    "                ds = gg[i]\n",
    "                scalers.append(MinMaxScaler(feature_range=(0, 1)))\n",
    "                # add_components(ds)\n",
    "                ds.drop(['product_rk','store_location_rk'], axis=1, inplace=True)\n",
    "                ds.reset_index(drop=True, inplace=True)\n",
    "            return np.array([split(x, scalers[-1]) for x in gg if x.shape[0] > 50]), scalers\n",
    "\n",
    "        self.train_ds = make_ds(self.train)[0]\n",
    "        # return self.train\n",
    "\n",
    "    def compile_test_ds(self):\n",
    "        \"\"\"\n",
    "        Подготовка батчей для обучения модели для test датасета\n",
    "        \"\"\"\n",
    "        def split_test(ds, scaler):\n",
    "            x = scaler.fit_transform(ds.drop(['product_rk','store_location_rk','period_start_dt', 'Unnamed: 0'],axis=1))\n",
    "            return x, ds\n",
    "\n",
    "        def make_ds_test(dataset):\n",
    "            g = dataset.groupby(['product_rk','store_location_rk'])\n",
    "            gg = np.array(g)[:,1]\n",
    "            scalers = []\n",
    "            for i in range(gg.shape[0]):\n",
    "                ds = gg[i]\n",
    "                scalers.append(MinMaxScaler(feature_range=(0, 1)))\n",
    "                ds.reset_index(inplace=True)\n",
    "            return [split_test(x, scalers[-1]) for x in gg], scalers\n",
    "\n",
    "        self.test_ds = make_ds_test(self.test)[0]\n",
    "\n",
    "    def split(self):\n",
    "        \"\"\"\n",
    "        Разделение датасета на train и test части\n",
    "        \"\"\"\n",
    "        self.train = self.data[~self.data.demand.isna()].copy()\n",
    "        self.test = self.data[self.data.demand.isna()].copy()\n",
    "        \n",
    "    def set_model(self, model, optimizer):\n",
    "        \"\"\"\n",
    "        Сохранение модели и оптимизатора\n",
    "        :model - модель для обучения\n",
    "        :optimizer - оптимизатор\n",
    "        \"\"\"\n",
    "        self.model = model\n",
    "        self.optimizer = optimizer\n",
    "        self.model.compile(optimizer=self.optimizer, loss='mse')\n",
    "        \n",
    "    def fit(self, epochs=5):\n",
    "        \"\"\"\n",
    "        Обучение модели с отрисовкой функции потерь \n",
    "        :epochs - количество эпох\n",
    "        \"\"\"\n",
    "        self.hist = []\n",
    "        # ds = self.compile_train_ds()[0]\n",
    "        for epoch in range(epochs):   \n",
    "            for batch in self.train_ds:        \n",
    "                for series in batch[0]:            \n",
    "                    self.hist.append(self.model.train_on_batch(series[0], series[1]))\n",
    "\n",
    "            clear_output() \n",
    "            print(\"Epoch {} of {}\".format(epoch + 1, epochs))\n",
    "            fig = plt.figure(figsize=(20, 7))\n",
    "            plt.title('Лосс', fontsize=15)\n",
    "            plt.plot(self.hist)\n",
    "            plt.show()\n",
    "                \n",
    "    def sample(self, k=0, metric=None):\n",
    "        \"\"\"\n",
    "        Демонстрация предсказания модели на заданной паре товар-магазин\n",
    "        :k - идентификатор пары\n",
    "        :metric - метрика, по которой посчитать качетсво предсказания\n",
    "                  для заданной пары\n",
    "        \"\"\"\n",
    "        val = self.train_ds[k][1]\n",
    "        y = self.train_ds[k][2]\n",
    "        yhat = [0] * 10\n",
    "        n = val.shape[0]\n",
    "        for i in range(10, n):\n",
    "            yhat.append(self.model.predict(val[i-10:i].reshape(1, 10, -1))[0][-1][0])\n",
    "            if yhat[-1] < 0:\n",
    "                yhat[-1] = 0\n",
    "\n",
    "        plt.figure(figsize=(12, 6))\n",
    "        plt.plot(y, label='true')\n",
    "        plt.plot(yhat,label='pred')\n",
    "        # plt.vlines(self.train_lim, 0, 1000, color='red')\n",
    "        plt.ylim(0, y.max()+100)\n",
    "        plt.legend()\n",
    "\n",
    "        if metric is not None:\n",
    "            print(f'metric {metric} = {self.metrics[metric](yhat, y.squeeze())}')\n",
    "        plt.show()\n",
    "\n",
    "    def build_submit(self):\n",
    "        \"\"\"\n",
    "        Подготовка сабмита для kaggle\n",
    "        \"\"\"\n",
    "        for ts in self.test_ds:\n",
    "            x = ts[0]\n",
    "            ds = ts[1]\n",
    "            y_hat = []\n",
    "            product = list(ds['product_rk'])[0]\n",
    "            store = list(ds['store_location_rk'])[0]\n",
    "            train_last = self.train[(self.train.product_rk == product) &\n",
    "                              (self.train.store_location_rk == store)][-10:].\\\n",
    "                              drop(['product_rk','store_location_rk', 'demand'], axis=1).values\n",
    "            x = np.vstack((train_last, x))\n",
    "            for i in range(10, x.shape[0]):\n",
    "                id = ds.loc[i-10,'Unnamed: 0']\n",
    "                pred = model.predict(x[i-10:i].reshape(1, 10, -1))[0][-1]\n",
    "                if pred < 0:\n",
    "                    self.test.loc[id, 'predicted'] = 0\n",
    "                else:\n",
    "                    self.test.loc[id, 'predicted'] = pred\n",
    "\n",
    "        self.prediction = self.test[['predicted']].copy()\n",
    "        return self.prediction\n"
   ]
  },
  {
   "cell_type": "code",
   "execution_count": 66,
   "metadata": {
    "id": "ijeDIrJLFB2K"
   },
   "outputs": [],
   "source": [
    "# data_path = \"../data\"+'/train.csv'\n",
    "data_path = 'train.csv'"
   ]
  },
  {
   "cell_type": "code",
   "execution_count": 67,
   "metadata": {
    "id": "c4kBU0B9FB2L"
   },
   "outputs": [],
   "source": [
    "ppl = Pipeline()"
   ]
  },
  {
   "cell_type": "markdown",
   "metadata": {
    "id": "cgTRG1YNxanw"
   },
   "source": [
    "Загрузим данные"
   ]
  },
  {
   "cell_type": "code",
   "execution_count": 68,
   "metadata": {
    "id": "98hqdT22FB2L"
   },
   "outputs": [],
   "source": [
    "ppl.set_path(data_path)"
   ]
  },
  {
   "cell_type": "markdown",
   "metadata": {
    "id": "g2V_1Du3xdRU"
   },
   "source": [
    "Предобработаем данные и посмотрим на полученные признаки"
   ]
  },
  {
   "cell_type": "code",
   "execution_count": 69,
   "metadata": {
    "id": "14K5AuvUFB2M"
   },
   "outputs": [],
   "source": [
    "ppl.process(tw=True, lagged_by_all_products=True, lagged_by_all_stores=True)"
   ]
  },
  {
   "cell_type": "code",
   "execution_count": 70,
   "metadata": {
    "colab": {
     "base_uri": "https://localhost:8080/",
     "height": 301
    },
    "id": "CAHjlf05t9nt",
    "outputId": "b88361fb-44d0-4c9d-d7ac-74ec1f93b042"
   },
   "outputs": [
    {
     "data": {
      "text/html": [
       "<div>\n",
       "<style scoped>\n",
       "    .dataframe tbody tr th:only-of-type {\n",
       "        vertical-align: middle;\n",
       "    }\n",
       "\n",
       "    .dataframe tbody tr th {\n",
       "        vertical-align: top;\n",
       "    }\n",
       "\n",
       "    .dataframe thead th {\n",
       "        text-align: right;\n",
       "    }\n",
       "</style>\n",
       "<table border=\"1\" class=\"dataframe\">\n",
       "  <thead>\n",
       "    <tr style=\"text-align: right;\">\n",
       "      <th></th>\n",
       "      <th>product_rk</th>\n",
       "      <th>store_location_rk</th>\n",
       "      <th>period_start_dt</th>\n",
       "      <th>demand</th>\n",
       "      <th>PROMO1_FLAG</th>\n",
       "      <th>PRICE_REGULAR</th>\n",
       "      <th>PRICE_AFTER_DISC</th>\n",
       "      <th>AUTORIZATION_FLAG</th>\n",
       "      <th>demand_lag7_wdw7_mean</th>\n",
       "      <th>demand_lag7_wdw7_median</th>\n",
       "      <th>demand_lag7_wdw7_pctl10</th>\n",
       "      <th>demand_lag7_wdw7_pctl90</th>\n",
       "      <th>demand_lag14_wdw7_mean</th>\n",
       "      <th>demand_lag14_wdw7_median</th>\n",
       "      <th>demand_lag14_wdw7_pctl10</th>\n",
       "      <th>demand_lag14_wdw7_pctl90</th>\n",
       "      <th>demand_lag21_wdw7_mean</th>\n",
       "      <th>demand_lag21_wdw7_median</th>\n",
       "      <th>demand_lag21_wdw7_pctl10</th>\n",
       "      <th>demand_lag21_wdw7_pctl90</th>\n",
       "      <th>demand_lag28_wdw7_mean</th>\n",
       "      <th>demand_lag28_wdw7_median</th>\n",
       "      <th>demand_lag28_wdw7_pctl10</th>\n",
       "      <th>demand_lag28_wdw7_pctl90</th>\n",
       "      <th>all_stores_demand_lag7_wdw7_mean</th>\n",
       "      <th>all_stores_demand_lag7_wdw7_median</th>\n",
       "      <th>all_stores_demand_lag7_wdw7_pctl10</th>\n",
       "      <th>all_stores_demand_lag7_wdw7_pctl90</th>\n",
       "      <th>all_stores_demand_lag14_wdw7_mean</th>\n",
       "      <th>all_stores_demand_lag14_wdw7_median</th>\n",
       "      <th>all_stores_demand_lag14_wdw7_pctl10</th>\n",
       "      <th>all_stores_demand_lag14_wdw7_pctl90</th>\n",
       "      <th>all_stores_demand_lag21_wdw7_mean</th>\n",
       "      <th>all_stores_demand_lag21_wdw7_median</th>\n",
       "      <th>all_stores_demand_lag21_wdw7_pctl10</th>\n",
       "      <th>all_stores_demand_lag21_wdw7_pctl90</th>\n",
       "      <th>all_stores_demand_lag28_wdw7_mean</th>\n",
       "      <th>all_stores_demand_lag28_wdw7_median</th>\n",
       "      <th>all_stores_demand_lag28_wdw7_pctl10</th>\n",
       "      <th>all_stores_demand_lag28_wdw7_pctl90</th>\n",
       "      <th>...</th>\n",
       "      <th>store_location_rk_517</th>\n",
       "      <th>store_location_rk_525</th>\n",
       "      <th>store_location_rk_533</th>\n",
       "      <th>store_location_rk_535</th>\n",
       "      <th>store_location_rk_540</th>\n",
       "      <th>store_location_rk_555</th>\n",
       "      <th>store_location_rk_557</th>\n",
       "      <th>store_location_rk_562</th>\n",
       "      <th>store_location_rk_637</th>\n",
       "      <th>store_location_rk_644</th>\n",
       "      <th>store_location_rk_657</th>\n",
       "      <th>store_location_rk_764</th>\n",
       "      <th>store_location_rk_798</th>\n",
       "      <th>store_location_rk_862</th>\n",
       "      <th>store_location_rk_866</th>\n",
       "      <th>store_location_rk_874</th>\n",
       "      <th>store_location_rk_1005</th>\n",
       "      <th>store_location_rk_1034</th>\n",
       "      <th>store_location_rk_1079</th>\n",
       "      <th>store_location_rk_1080</th>\n",
       "      <th>store_location_rk_1143</th>\n",
       "      <th>store_location_rk_1162</th>\n",
       "      <th>store_location_rk_1173</th>\n",
       "      <th>store_location_rk_1185</th>\n",
       "      <th>store_location_rk_1191</th>\n",
       "      <th>store_location_rk_1202</th>\n",
       "      <th>store_location_rk_1203</th>\n",
       "      <th>store_location_rk_1281</th>\n",
       "      <th>store_location_rk_1316</th>\n",
       "      <th>store_location_rk_1326</th>\n",
       "      <th>store_location_rk_1328</th>\n",
       "      <th>store_location_rk_1347</th>\n",
       "      <th>store_location_rk_1363</th>\n",
       "      <th>store_location_rk_1380</th>\n",
       "      <th>flag_14FEB</th>\n",
       "      <th>flag_23FEB</th>\n",
       "      <th>flag_8MAR</th>\n",
       "      <th>flag_9MAY</th>\n",
       "      <th>flag_1SEP</th>\n",
       "      <th>flag_NEW_YEAR</th>\n",
       "    </tr>\n",
       "    <tr>\n",
       "      <th>Unnamed: 0</th>\n",
       "      <th></th>\n",
       "      <th></th>\n",
       "      <th></th>\n",
       "      <th></th>\n",
       "      <th></th>\n",
       "      <th></th>\n",
       "      <th></th>\n",
       "      <th></th>\n",
       "      <th></th>\n",
       "      <th></th>\n",
       "      <th></th>\n",
       "      <th></th>\n",
       "      <th></th>\n",
       "      <th></th>\n",
       "      <th></th>\n",
       "      <th></th>\n",
       "      <th></th>\n",
       "      <th></th>\n",
       "      <th></th>\n",
       "      <th></th>\n",
       "      <th></th>\n",
       "      <th></th>\n",
       "      <th></th>\n",
       "      <th></th>\n",
       "      <th></th>\n",
       "      <th></th>\n",
       "      <th></th>\n",
       "      <th></th>\n",
       "      <th></th>\n",
       "      <th></th>\n",
       "      <th></th>\n",
       "      <th></th>\n",
       "      <th></th>\n",
       "      <th></th>\n",
       "      <th></th>\n",
       "      <th></th>\n",
       "      <th></th>\n",
       "      <th></th>\n",
       "      <th></th>\n",
       "      <th></th>\n",
       "      <th></th>\n",
       "      <th></th>\n",
       "      <th></th>\n",
       "      <th></th>\n",
       "      <th></th>\n",
       "      <th></th>\n",
       "      <th></th>\n",
       "      <th></th>\n",
       "      <th></th>\n",
       "      <th></th>\n",
       "      <th></th>\n",
       "      <th></th>\n",
       "      <th></th>\n",
       "      <th></th>\n",
       "      <th></th>\n",
       "      <th></th>\n",
       "      <th></th>\n",
       "      <th></th>\n",
       "      <th></th>\n",
       "      <th></th>\n",
       "      <th></th>\n",
       "      <th></th>\n",
       "      <th></th>\n",
       "      <th></th>\n",
       "      <th></th>\n",
       "      <th></th>\n",
       "      <th></th>\n",
       "      <th></th>\n",
       "      <th></th>\n",
       "      <th></th>\n",
       "      <th></th>\n",
       "      <th></th>\n",
       "      <th></th>\n",
       "      <th></th>\n",
       "      <th></th>\n",
       "      <th></th>\n",
       "      <th></th>\n",
       "      <th></th>\n",
       "      <th></th>\n",
       "      <th></th>\n",
       "      <th></th>\n",
       "    </tr>\n",
       "  </thead>\n",
       "  <tbody>\n",
       "    <tr>\n",
       "      <th>0</th>\n",
       "      <td>40369</td>\n",
       "      <td>309</td>\n",
       "      <td>2016-12-19</td>\n",
       "      <td>29.0</td>\n",
       "      <td>0.0</td>\n",
       "      <td>NaN</td>\n",
       "      <td>NaN</td>\n",
       "      <td>0.0</td>\n",
       "      <td>NaN</td>\n",
       "      <td>NaN</td>\n",
       "      <td>NaN</td>\n",
       "      <td>NaN</td>\n",
       "      <td>NaN</td>\n",
       "      <td>NaN</td>\n",
       "      <td>NaN</td>\n",
       "      <td>NaN</td>\n",
       "      <td>NaN</td>\n",
       "      <td>NaN</td>\n",
       "      <td>NaN</td>\n",
       "      <td>NaN</td>\n",
       "      <td>NaN</td>\n",
       "      <td>NaN</td>\n",
       "      <td>NaN</td>\n",
       "      <td>NaN</td>\n",
       "      <td>NaN</td>\n",
       "      <td>NaN</td>\n",
       "      <td>NaN</td>\n",
       "      <td>NaN</td>\n",
       "      <td>NaN</td>\n",
       "      <td>NaN</td>\n",
       "      <td>NaN</td>\n",
       "      <td>NaN</td>\n",
       "      <td>NaN</td>\n",
       "      <td>NaN</td>\n",
       "      <td>NaN</td>\n",
       "      <td>NaN</td>\n",
       "      <td>NaN</td>\n",
       "      <td>NaN</td>\n",
       "      <td>NaN</td>\n",
       "      <td>NaN</td>\n",
       "      <td>...</td>\n",
       "      <td>0</td>\n",
       "      <td>0</td>\n",
       "      <td>0</td>\n",
       "      <td>0</td>\n",
       "      <td>0</td>\n",
       "      <td>0</td>\n",
       "      <td>0</td>\n",
       "      <td>0</td>\n",
       "      <td>0</td>\n",
       "      <td>0</td>\n",
       "      <td>0</td>\n",
       "      <td>0</td>\n",
       "      <td>0</td>\n",
       "      <td>0</td>\n",
       "      <td>0</td>\n",
       "      <td>0</td>\n",
       "      <td>0</td>\n",
       "      <td>0</td>\n",
       "      <td>0</td>\n",
       "      <td>0</td>\n",
       "      <td>0</td>\n",
       "      <td>0</td>\n",
       "      <td>0</td>\n",
       "      <td>0</td>\n",
       "      <td>0</td>\n",
       "      <td>0</td>\n",
       "      <td>0</td>\n",
       "      <td>0</td>\n",
       "      <td>0</td>\n",
       "      <td>0</td>\n",
       "      <td>0</td>\n",
       "      <td>0</td>\n",
       "      <td>0</td>\n",
       "      <td>0</td>\n",
       "      <td>0</td>\n",
       "      <td>0</td>\n",
       "      <td>0</td>\n",
       "      <td>0</td>\n",
       "      <td>0</td>\n",
       "      <td>0</td>\n",
       "    </tr>\n",
       "    <tr>\n",
       "      <th>1</th>\n",
       "      <td>40370</td>\n",
       "      <td>309</td>\n",
       "      <td>2016-12-19</td>\n",
       "      <td>64.0</td>\n",
       "      <td>0.0</td>\n",
       "      <td>NaN</td>\n",
       "      <td>NaN</td>\n",
       "      <td>0.0</td>\n",
       "      <td>NaN</td>\n",
       "      <td>NaN</td>\n",
       "      <td>NaN</td>\n",
       "      <td>NaN</td>\n",
       "      <td>NaN</td>\n",
       "      <td>NaN</td>\n",
       "      <td>NaN</td>\n",
       "      <td>NaN</td>\n",
       "      <td>NaN</td>\n",
       "      <td>NaN</td>\n",
       "      <td>NaN</td>\n",
       "      <td>NaN</td>\n",
       "      <td>NaN</td>\n",
       "      <td>NaN</td>\n",
       "      <td>NaN</td>\n",
       "      <td>NaN</td>\n",
       "      <td>3.505855</td>\n",
       "      <td>3.5</td>\n",
       "      <td>1.5</td>\n",
       "      <td>5.416393</td>\n",
       "      <td>3.642857</td>\n",
       "      <td>3.5</td>\n",
       "      <td>1.5</td>\n",
       "      <td>5.9</td>\n",
       "      <td>3.142857</td>\n",
       "      <td>3.0</td>\n",
       "      <td>3.0</td>\n",
       "      <td>3.5</td>\n",
       "      <td>4.785714</td>\n",
       "      <td>5.0</td>\n",
       "      <td>2.7</td>\n",
       "      <td>7.2</td>\n",
       "      <td>...</td>\n",
       "      <td>0</td>\n",
       "      <td>0</td>\n",
       "      <td>0</td>\n",
       "      <td>0</td>\n",
       "      <td>0</td>\n",
       "      <td>0</td>\n",
       "      <td>0</td>\n",
       "      <td>0</td>\n",
       "      <td>0</td>\n",
       "      <td>0</td>\n",
       "      <td>0</td>\n",
       "      <td>0</td>\n",
       "      <td>0</td>\n",
       "      <td>0</td>\n",
       "      <td>0</td>\n",
       "      <td>0</td>\n",
       "      <td>0</td>\n",
       "      <td>0</td>\n",
       "      <td>0</td>\n",
       "      <td>0</td>\n",
       "      <td>0</td>\n",
       "      <td>0</td>\n",
       "      <td>0</td>\n",
       "      <td>0</td>\n",
       "      <td>0</td>\n",
       "      <td>0</td>\n",
       "      <td>0</td>\n",
       "      <td>0</td>\n",
       "      <td>0</td>\n",
       "      <td>0</td>\n",
       "      <td>0</td>\n",
       "      <td>0</td>\n",
       "      <td>0</td>\n",
       "      <td>0</td>\n",
       "      <td>0</td>\n",
       "      <td>0</td>\n",
       "      <td>0</td>\n",
       "      <td>0</td>\n",
       "      <td>0</td>\n",
       "      <td>0</td>\n",
       "    </tr>\n",
       "    <tr>\n",
       "      <th>2</th>\n",
       "      <td>40372</td>\n",
       "      <td>309</td>\n",
       "      <td>2016-12-19</td>\n",
       "      <td>32.0</td>\n",
       "      <td>0.0</td>\n",
       "      <td>NaN</td>\n",
       "      <td>NaN</td>\n",
       "      <td>0.0</td>\n",
       "      <td>NaN</td>\n",
       "      <td>NaN</td>\n",
       "      <td>NaN</td>\n",
       "      <td>NaN</td>\n",
       "      <td>NaN</td>\n",
       "      <td>NaN</td>\n",
       "      <td>NaN</td>\n",
       "      <td>NaN</td>\n",
       "      <td>NaN</td>\n",
       "      <td>NaN</td>\n",
       "      <td>NaN</td>\n",
       "      <td>NaN</td>\n",
       "      <td>NaN</td>\n",
       "      <td>NaN</td>\n",
       "      <td>NaN</td>\n",
       "      <td>NaN</td>\n",
       "      <td>8.928571</td>\n",
       "      <td>10.5</td>\n",
       "      <td>5.1</td>\n",
       "      <td>11.400000</td>\n",
       "      <td>9.857143</td>\n",
       "      <td>10.5</td>\n",
       "      <td>4.8</td>\n",
       "      <td>14.3</td>\n",
       "      <td>9.928571</td>\n",
       "      <td>10.0</td>\n",
       "      <td>9.3</td>\n",
       "      <td>10.5</td>\n",
       "      <td>10.571429</td>\n",
       "      <td>11.5</td>\n",
       "      <td>6.0</td>\n",
       "      <td>14.8</td>\n",
       "      <td>...</td>\n",
       "      <td>0</td>\n",
       "      <td>0</td>\n",
       "      <td>0</td>\n",
       "      <td>0</td>\n",
       "      <td>0</td>\n",
       "      <td>0</td>\n",
       "      <td>0</td>\n",
       "      <td>0</td>\n",
       "      <td>0</td>\n",
       "      <td>0</td>\n",
       "      <td>0</td>\n",
       "      <td>0</td>\n",
       "      <td>0</td>\n",
       "      <td>0</td>\n",
       "      <td>0</td>\n",
       "      <td>0</td>\n",
       "      <td>0</td>\n",
       "      <td>0</td>\n",
       "      <td>0</td>\n",
       "      <td>0</td>\n",
       "      <td>0</td>\n",
       "      <td>0</td>\n",
       "      <td>0</td>\n",
       "      <td>0</td>\n",
       "      <td>0</td>\n",
       "      <td>0</td>\n",
       "      <td>0</td>\n",
       "      <td>0</td>\n",
       "      <td>0</td>\n",
       "      <td>0</td>\n",
       "      <td>0</td>\n",
       "      <td>0</td>\n",
       "      <td>0</td>\n",
       "      <td>0</td>\n",
       "      <td>0</td>\n",
       "      <td>0</td>\n",
       "      <td>0</td>\n",
       "      <td>0</td>\n",
       "      <td>0</td>\n",
       "      <td>0</td>\n",
       "    </tr>\n",
       "    <tr>\n",
       "      <th>3</th>\n",
       "      <td>40373</td>\n",
       "      <td>309</td>\n",
       "      <td>2016-12-19</td>\n",
       "      <td>10.0</td>\n",
       "      <td>0.0</td>\n",
       "      <td>NaN</td>\n",
       "      <td>NaN</td>\n",
       "      <td>0.0</td>\n",
       "      <td>NaN</td>\n",
       "      <td>NaN</td>\n",
       "      <td>NaN</td>\n",
       "      <td>NaN</td>\n",
       "      <td>NaN</td>\n",
       "      <td>NaN</td>\n",
       "      <td>NaN</td>\n",
       "      <td>NaN</td>\n",
       "      <td>NaN</td>\n",
       "      <td>NaN</td>\n",
       "      <td>NaN</td>\n",
       "      <td>NaN</td>\n",
       "      <td>NaN</td>\n",
       "      <td>NaN</td>\n",
       "      <td>NaN</td>\n",
       "      <td>NaN</td>\n",
       "      <td>5.785714</td>\n",
       "      <td>6.0</td>\n",
       "      <td>3.3</td>\n",
       "      <td>7.900000</td>\n",
       "      <td>4.642857</td>\n",
       "      <td>5.0</td>\n",
       "      <td>2.7</td>\n",
       "      <td>6.0</td>\n",
       "      <td>5.142857</td>\n",
       "      <td>5.0</td>\n",
       "      <td>4.8</td>\n",
       "      <td>5.6</td>\n",
       "      <td>5.428571</td>\n",
       "      <td>6.0</td>\n",
       "      <td>3.0</td>\n",
       "      <td>7.1</td>\n",
       "      <td>...</td>\n",
       "      <td>0</td>\n",
       "      <td>0</td>\n",
       "      <td>0</td>\n",
       "      <td>0</td>\n",
       "      <td>0</td>\n",
       "      <td>0</td>\n",
       "      <td>0</td>\n",
       "      <td>0</td>\n",
       "      <td>0</td>\n",
       "      <td>0</td>\n",
       "      <td>0</td>\n",
       "      <td>0</td>\n",
       "      <td>0</td>\n",
       "      <td>0</td>\n",
       "      <td>0</td>\n",
       "      <td>0</td>\n",
       "      <td>0</td>\n",
       "      <td>0</td>\n",
       "      <td>0</td>\n",
       "      <td>0</td>\n",
       "      <td>0</td>\n",
       "      <td>0</td>\n",
       "      <td>0</td>\n",
       "      <td>0</td>\n",
       "      <td>0</td>\n",
       "      <td>0</td>\n",
       "      <td>0</td>\n",
       "      <td>0</td>\n",
       "      <td>0</td>\n",
       "      <td>0</td>\n",
       "      <td>0</td>\n",
       "      <td>0</td>\n",
       "      <td>0</td>\n",
       "      <td>0</td>\n",
       "      <td>0</td>\n",
       "      <td>0</td>\n",
       "      <td>0</td>\n",
       "      <td>0</td>\n",
       "      <td>0</td>\n",
       "      <td>0</td>\n",
       "    </tr>\n",
       "    <tr>\n",
       "      <th>4</th>\n",
       "      <td>46272</td>\n",
       "      <td>309</td>\n",
       "      <td>2016-12-19</td>\n",
       "      <td>15.0</td>\n",
       "      <td>0.0</td>\n",
       "      <td>NaN</td>\n",
       "      <td>NaN</td>\n",
       "      <td>0.0</td>\n",
       "      <td>NaN</td>\n",
       "      <td>NaN</td>\n",
       "      <td>NaN</td>\n",
       "      <td>NaN</td>\n",
       "      <td>NaN</td>\n",
       "      <td>NaN</td>\n",
       "      <td>NaN</td>\n",
       "      <td>NaN</td>\n",
       "      <td>NaN</td>\n",
       "      <td>NaN</td>\n",
       "      <td>NaN</td>\n",
       "      <td>NaN</td>\n",
       "      <td>NaN</td>\n",
       "      <td>NaN</td>\n",
       "      <td>NaN</td>\n",
       "      <td>NaN</td>\n",
       "      <td>3.857143</td>\n",
       "      <td>4.5</td>\n",
       "      <td>2.4</td>\n",
       "      <td>5.000000</td>\n",
       "      <td>3.785714</td>\n",
       "      <td>4.5</td>\n",
       "      <td>1.8</td>\n",
       "      <td>5.0</td>\n",
       "      <td>3.714286</td>\n",
       "      <td>4.0</td>\n",
       "      <td>3.0</td>\n",
       "      <td>4.0</td>\n",
       "      <td>3.500000</td>\n",
       "      <td>4.0</td>\n",
       "      <td>1.8</td>\n",
       "      <td>5.2</td>\n",
       "      <td>...</td>\n",
       "      <td>0</td>\n",
       "      <td>0</td>\n",
       "      <td>0</td>\n",
       "      <td>0</td>\n",
       "      <td>0</td>\n",
       "      <td>0</td>\n",
       "      <td>0</td>\n",
       "      <td>0</td>\n",
       "      <td>0</td>\n",
       "      <td>0</td>\n",
       "      <td>0</td>\n",
       "      <td>0</td>\n",
       "      <td>0</td>\n",
       "      <td>0</td>\n",
       "      <td>0</td>\n",
       "      <td>0</td>\n",
       "      <td>0</td>\n",
       "      <td>0</td>\n",
       "      <td>0</td>\n",
       "      <td>0</td>\n",
       "      <td>0</td>\n",
       "      <td>0</td>\n",
       "      <td>0</td>\n",
       "      <td>0</td>\n",
       "      <td>0</td>\n",
       "      <td>0</td>\n",
       "      <td>0</td>\n",
       "      <td>0</td>\n",
       "      <td>0</td>\n",
       "      <td>0</td>\n",
       "      <td>0</td>\n",
       "      <td>0</td>\n",
       "      <td>0</td>\n",
       "      <td>0</td>\n",
       "      <td>0</td>\n",
       "      <td>0</td>\n",
       "      <td>0</td>\n",
       "      <td>0</td>\n",
       "      <td>0</td>\n",
       "      <td>0</td>\n",
       "    </tr>\n",
       "  </tbody>\n",
       "</table>\n",
       "<p>5 rows × 161 columns</p>\n",
       "</div>"
      ],
      "text/plain": [
       "            product_rk  store_location_rk  ... flag_1SEP  flag_NEW_YEAR\n",
       "Unnamed: 0                                 ...                         \n",
       "0                40369                309  ...         0              0\n",
       "1                40370                309  ...         0              0\n",
       "2                40372                309  ...         0              0\n",
       "3                40373                309  ...         0              0\n",
       "4                46272                309  ...         0              0\n",
       "\n",
       "[5 rows x 161 columns]"
      ]
     },
     "execution_count": 70,
     "metadata": {
      "tags": []
     },
     "output_type": "execute_result"
    }
   ],
   "source": [
    "ppl.data.head()"
   ]
  },
  {
   "cell_type": "markdown",
   "metadata": {
    "id": "Kf8WddRUyBVx"
   },
   "source": [
    "Разобьем датасет на батчи для обучения модели"
   ]
  },
  {
   "cell_type": "code",
   "execution_count": 72,
   "metadata": {
    "id": "MvRSDntwFB2M"
   },
   "outputs": [],
   "source": [
    "ds = ppl.compile_train_ds()"
   ]
  },
  {
   "cell_type": "markdown",
   "metadata": {
    "id": "jw_q0zbeykkd"
   },
   "source": [
    "Определим саму модель"
   ]
  },
  {
   "cell_type": "code",
   "execution_count": 79,
   "metadata": {
    "colab": {
     "base_uri": "https://localhost:8080/",
     "height": 139
    },
    "id": "e449nTD40UK9",
    "outputId": "ae65db7a-dd79-4a75-ca18-22a05a25ec04"
   },
   "outputs": [
    {
     "data": {
      "application/vnd.google.colaboratory.intrinsic+json": {
       "type": "string"
      },
      "text/plain": [
       "\"\\nmodel = tf.keras.models.Sequential([\\n    tf.keras.layers.Conv1D(filters=64, kernel_size=1, activation='relu', input_shape=(10, 157)),\\n    tf.keras.layers.MaxPooling1D(pool_size=2, padding='same'),\\n    tf.keras.layers.Conv1D(filters=32, kernel_size=1, activation='relu', input_shape=(10, 157)),\\n    tf.keras.layers.MaxPooling1D(pool_size=2, padding='same'),\\n    tf.keras.layers.LSTM(32, return_sequences=True),#, input_shape=(None,157), return_sequences=True),\\n    tf.keras.layers.LSTM(32, return_sequences=True),#, return_sequences=True),\\n    tf.keras.layers.Dense(10, activation='elu'),\\n    tf.keras.layers.Dense(5, activation='elu'),\\n    tf.keras.layers.Dense(1, activation='linear')\\n])\\n\\noptimizer = tf.keras.optimizers.Adam()\\n\""
      ]
     },
     "execution_count": 79,
     "metadata": {
      "tags": []
     },
     "output_type": "execute_result"
    }
   ],
   "source": [
    "\"\"\"\n",
    "model = tf.keras.models.Sequential([\n",
    "    tf.keras.layers.Conv1D(filters=64, kernel_size=1, activation='relu', input_shape=(10, 157)),\n",
    "    tf.keras.layers.MaxPooling1D(pool_size=2, padding='same'),\n",
    "    tf.keras.layers.Conv1D(filters=32, kernel_size=1, activation='relu', input_shape=(10, 157)),\n",
    "    tf.keras.layers.MaxPooling1D(pool_size=2, padding='same'),\n",
    "    tf.keras.layers.LSTM(32, return_sequences=True),#, input_shape=(None,157), return_sequences=True),\n",
    "    tf.keras.layers.LSTM(32, return_sequences=True),#, return_sequences=True),\n",
    "    tf.keras.layers.Dense(10, activation='elu'),\n",
    "    tf.keras.layers.Dense(5, activation='elu'),\n",
    "    tf.keras.layers.Dense(1, activation='linear')\n",
    "])\n",
    "\n",
    "optimizer = tf.keras.optimizers.Adam()\n",
    "\"\"\""
   ]
  },
  {
   "cell_type": "code",
   "execution_count": null,
   "metadata": {
    "id": "a_lsN7d50VFj"
   },
   "outputs": [],
   "source": [
    "\"\"\"\n",
    "model = tf.keras.models.Sequential([\n",
    "    tf.keras.layers.LSTM(64, return_sequences=True),#, input_shape=(None,157), return_sequences=True),\n",
    "    tf.keras.layers.LSTM(64, return_sequences=True),#, return_sequences=True),\n",
    "    tf.keras.layers.Dense(40, activation='elu'),\n",
    "    tf.keras.layers.Dense(10, activation='elu'),\n",
    "    tf.keras.layers.Dense(1, activation='linear')\n",
    "])\n",
    "\n",
    "optimizer = tf.keras.optimizers.Adam()\n",
    "\"\"\""
   ]
  },
  {
   "cell_type": "code",
   "execution_count": null,
   "metadata": {
    "id": "9pKgCRKD0Z-2"
   },
   "outputs": [],
   "source": [
    "\"\"\"\n",
    "model = tf.keras.models.Sequential([\n",
    "    tf.keras.layers.LSTM(64, return_sequences=True),#, input_shape=(None,157), return_sequences=True),\n",
    "    tf.keras.layers.LSTM(32, return_sequences=True),#, return_sequences=True),\n",
    "    tf.keras.layers.Dense(100, activation='elu'),\n",
    "    tf.keras.layers.Dense(50, activation='elu'),\n",
    "    tf.keras.layers.Dense(1, activation='linear')\n",
    "])\n",
    "\n",
    "optimizer = tf.keras.optimizers.Adam()\n",
    "\"\"\""
   ]
  },
  {
   "cell_type": "code",
   "execution_count": null,
   "metadata": {
    "id": "C80yUqoA0cyA"
   },
   "outputs": [],
   "source": [
    "\"\"\"\n",
    "model = tf.keras.models.Sequential([\n",
    "    tf.keras.layers.LSTM(64, return_sequences=True),#, input_shape=(None,157), return_sequences=True),\n",
    "    tf.keras.layers.LSTM(32, return_sequences=True),#, return_sequences=True),\n",
    "    tf.keras.layers.Dense(100, activation='elu'),\n",
    "    tf.keras.layers.Dense(50, activation='elu'),\n",
    "    tf.keras.layers.Dense(1, activation='linear')\n",
    "])\n",
    "\n",
    "optimizer = tf.keras.optimizers.Adam()\n",
    "\"\"\""
   ]
  },
  {
   "cell_type": "code",
   "execution_count": null,
   "metadata": {
    "id": "6m1wCs5d0gxM"
   },
   "outputs": [],
   "source": [
    "\"\"\"\n",
    "model = tf.keras.models.Sequential([\n",
    "    tf.keras.layers.LSTM(64, return_sequences=True),#, input_shape=(None,157), return_sequences=True),\n",
    "    tf.keras.layers.LSTM(32, return_sequences=True),#, return_sequences=True),\n",
    "    tf.keras.layers.LSTM(32, return_sequences=True),#, return_sequences=True),\n",
    "    tf.keras.layers.Dense(50, activation='elu'),\n",
    "    tf.keras.layers.Dense(10, activation='elu'),\n",
    "    tf.keras.layers.Dense(1, activation='linear')\n",
    "])\n",
    "\n",
    "optimizer = tf.keras.optimizers.Adam()\n",
    "\"\"\""
   ]
  },
  {
   "cell_type": "code",
   "execution_count": 73,
   "metadata": {
    "id": "X0rupXP7FB2Q"
   },
   "outputs": [],
   "source": [
    "model = tf.keras.models.Sequential([\n",
    "    tf.keras.layers.Conv1D(filters=32, kernel_size=1, activation='relu', input_shape=(10, 157)),\n",
    "    tf.keras.layers.MaxPooling1D(pool_size=2, padding='same'),\n",
    "    tf.keras.layers.Conv1D(filters=16, kernel_size=1, activation='relu', input_shape=(10, 157)),\n",
    "    tf.keras.layers.MaxPooling1D(pool_size=2, padding='same'),\n",
    "    tf.keras.layers.GRU(16, return_sequences=True),#, input_shape=(None,157), return_sequences=True),\n",
    "    tf.keras.layers.GRU(16, return_sequences=True),#, return_sequences=True),\n",
    "    tf.keras.layers.Dense(10, activation='elu'),\n",
    "    tf.keras.layers.Dense(5, activation='elu'),\n",
    "    tf.keras.layers.Dense(1, activation='linear')\n",
    "])\n",
    "\n",
    "optimizer = tf.keras.optimizers.Adam()"
   ]
  },
  {
   "cell_type": "code",
   "execution_count": 74,
   "metadata": {
    "id": "noijhqtCFB2Q"
   },
   "outputs": [],
   "source": [
    "ppl.set_model(model, optimizer)\n"
   ]
  },
  {
   "cell_type": "markdown",
   "metadata": {
    "id": "xgB1Jg20ynPS"
   },
   "source": [
    "Обучим модель с количеством эпох, равным 300"
   ]
  },
  {
   "cell_type": "code",
   "execution_count": 75,
   "metadata": {
    "colab": {
     "base_uri": "https://localhost:8080/",
     "height": 407
    },
    "id": "dArL-mnkFB2R",
    "outputId": "faf4bb75-fd35-4dc1-c039-dd20df96597c",
    "scrolled": true
   },
   "outputs": [
    {
     "name": "stdout",
     "output_type": "stream",
     "text": [
      "Epoch 300 of 300\n"
     ]
    },
    {
     "data": {
      "image/png": "[encoded data removed]",
      "text/plain": [
       "<Figure size 1440x504 with 1 Axes>"
      ]
     },
     "metadata": {
      "needs_background": "light",
      "tags": []
     },
     "output_type": "display_data"
    }
   ],
   "source": [
    "ppl.fit(300)"
   ]
  },
  {
   "cell_type": "markdown",
   "metadata": {
    "id": "qn9tiwd5y95w"
   },
   "source": [
    "Посмотрим на предсказания модели на примере нескольких пар товар/магазин"
   ]
  },
  {
   "cell_type": "code",
   "execution_count": 76,
   "metadata": {
    "colab": {
     "base_uri": "https://localhost:8080/",
     "height": 391
    },
    "id": "tVvx77mqz8HA",
    "outputId": "aa0003dd-0f96-4bec-92c5-dfbc78fb413a"
   },
   "outputs": [
    {
     "name": "stdout",
     "output_type": "stream",
     "text": [
      "metric wape = [0.47240672732088745]\n"
     ]
    },
    {
     "data": {
      "image/png": "[encoded data removed]",
      "text/plain": [
       "<Figure size 864x432 with 1 Axes>"
      ]
     },
     "metadata": {
      "needs_background": "light",
      "tags": []
     },
     "output_type": "display_data"
    }
   ],
   "source": [
    "ppl.sample(7, \"wape\")"
   ]
  },
  {
   "cell_type": "code",
   "execution_count": 77,
   "metadata": {
    "colab": {
     "base_uri": "https://localhost:8080/",
     "height": 391
    },
    "id": "s26sKcWkzkFc",
    "outputId": "8aa56326-eced-4a14-925b-217a6b923162"
   },
   "outputs": [
    {
     "name": "stdout",
     "output_type": "stream",
     "text": [
      "metric wape = [0.586045262088642]\n"
     ]
    },
    {
     "data": {
      "image/png": "[encoded data removed]",
      "text/plain": [
       "<Figure size 864x432 with 1 Axes>"
      ]
     },
     "metadata": {
      "needs_background": "light",
      "tags": []
     },
     "output_type": "display_data"
    }
   ],
   "source": [
    "ppl.sample(8, \"wape\")"
   ]
  },
  {
   "cell_type": "code",
   "execution_count": 78,
   "metadata": {
    "colab": {
     "base_uri": "https://localhost:8080/",
     "height": 394
    },
    "id": "Q6DfIT1pzopN",
    "outputId": "522ecb50-f337-40c6-e47c-6ca1d3d3a80f"
   },
   "outputs": [
    {
     "name": "stdout",
     "output_type": "stream",
     "text": [
      "metric wape = [0.6120286302597348]\n"
     ]
    },
    {
     "data": {
      "image/png": "[encoded data removed]",
      "text/plain": [
       "<Figure size 864x432 with 1 Axes>"
      ]
     },
     "metadata": {
      "needs_background": "light",
      "tags": []
     },
     "output_type": "display_data"
    }
   ],
   "source": [
    "ppl.sample(1, \"wape\")"
   ]
  },
  {
   "cell_type": "code",
   "execution_count": null,
   "metadata": {
    "id": "SnPksrPYDdAG"
   },
   "outputs": [],
   "source": [
    "ppl.compile_test_ds()"
   ]
  },
  {
   "cell_type": "markdown",
   "metadata": {
    "id": "lEsPEJhyzsYI"
   },
   "source": [
    "Подготовим сабмит"
   ]
  },
  {
   "cell_type": "code",
   "execution_count": null,
   "metadata": {
    "colab": {
     "base_uri": "https://localhost:8080/",
     "height": 450
    },
    "id": "GA-IB_wIDsRI",
    "outputId": "b87c4490-8270-4c40-abc6-9d9f023361c2"
   },
   "outputs": [
    {
     "data": {
      "text/html": [
       "<div>\n",
       "<style scoped>\n",
       "    .dataframe tbody tr th:only-of-type {\n",
       "        vertical-align: middle;\n",
       "    }\n",
       "\n",
       "    .dataframe tbody tr th {\n",
       "        vertical-align: top;\n",
       "    }\n",
       "\n",
       "    .dataframe thead th {\n",
       "        text-align: right;\n",
       "    }\n",
       "</style>\n",
       "<table border=\"1\" class=\"dataframe\">\n",
       "  <thead>\n",
       "    <tr style=\"text-align: right;\">\n",
       "      <th></th>\n",
       "      <th>predicted</th>\n",
       "    </tr>\n",
       "    <tr>\n",
       "      <th>Unnamed: 0</th>\n",
       "      <th></th>\n",
       "    </tr>\n",
       "  </thead>\n",
       "  <tbody>\n",
       "    <tr>\n",
       "      <th>908</th>\n",
       "      <td>0.527339</td>\n",
       "    </tr>\n",
       "    <tr>\n",
       "      <th>909</th>\n",
       "      <td>0.423147</td>\n",
       "    </tr>\n",
       "    <tr>\n",
       "      <th>910</th>\n",
       "      <td>0.423147</td>\n",
       "    </tr>\n",
       "    <tr>\n",
       "      <th>911</th>\n",
       "      <td>0.423147</td>\n",
       "    </tr>\n",
       "    <tr>\n",
       "      <th>912</th>\n",
       "      <td>1.102532</td>\n",
       "    </tr>\n",
       "    <tr>\n",
       "      <th>...</th>\n",
       "      <td>...</td>\n",
       "    </tr>\n",
       "    <tr>\n",
       "      <th>35537</th>\n",
       "      <td>0.552540</td>\n",
       "    </tr>\n",
       "    <tr>\n",
       "      <th>35538</th>\n",
       "      <td>0.512058</td>\n",
       "    </tr>\n",
       "    <tr>\n",
       "      <th>35539</th>\n",
       "      <td>0.543729</td>\n",
       "    </tr>\n",
       "    <tr>\n",
       "      <th>35540</th>\n",
       "      <td>1.286769</td>\n",
       "    </tr>\n",
       "    <tr>\n",
       "      <th>35541</th>\n",
       "      <td>1.615139</td>\n",
       "    </tr>\n",
       "  </tbody>\n",
       "</table>\n",
       "<p>1200 rows × 1 columns</p>\n",
       "</div>"
      ],
      "text/plain": [
       "            predicted\n",
       "Unnamed: 0           \n",
       "908          0.527339\n",
       "909          0.423147\n",
       "910          0.423147\n",
       "911          0.423147\n",
       "912          1.102532\n",
       "...               ...\n",
       "35537        0.552540\n",
       "35538        0.512058\n",
       "35539        0.543729\n",
       "35540        1.286769\n",
       "35541        1.615139\n",
       "\n",
       "[1200 rows x 1 columns]"
      ]
     },
     "execution_count": 456,
     "metadata": {
      "tags": []
     },
     "output_type": "execute_result"
    }
   ],
   "source": [
    "ppl.build_submit()"
   ]
  },
  {
   "cell_type": "code",
   "execution_count": null,
   "metadata": {
    "id": "F0N3CHb6WGL_"
   },
   "outputs": [],
   "source": []
  }
 ],
 "metadata": {
  "colab": {
   "collapsed_sections": [],
   "name": "Pipeline.ipynb",
   "provenance": []
  },
  "kernelspec": {
   "display_name": "Python 3",
   "language": "python",
   "name": "python3"
  },
  "language_info": {
   "codemirror_mode": {
    "name": "ipython",
    "version": 3
   },
   "file_extension": ".py",
   "mimetype": "text/x-python",
   "name": "python",
   "nbconvert_exporter": "python",
   "pygments_lexer": "ipython3",
   "version": "3.8.8"
  }
 },
 "nbformat": 4,
 "nbformat_minor": 1
}
