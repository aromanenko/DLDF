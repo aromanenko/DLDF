{
 "cells": [
  {
   "cell_type": "code",
   "execution_count": 15,
   "id": "1c120db8",
   "metadata": {
    "ExecuteTime": {
     "end_time": "2022-06-01T16:51:40.408529Z",
     "start_time": "2022-06-01T16:51:40.366638Z"
    }
   },
   "outputs": [
    {
     "name": "stdout",
     "output_type": "stream",
     "text": [
      "The autoreload extension is already loaded. To reload it, use:\n",
      "  %reload_ext autoreload\n"
     ]
    }
   ],
   "source": [
    "%load_ext autoreload\n",
    "%autoreload 2"
   ]
  },
  {
   "cell_type": "code",
<<<<<<< HEAD:app/Build Predictions.ipynb
   "execution_count": 16,
   "id": "d69118f7",
   "metadata": {
    "ExecuteTime": {
     "end_time": "2022-06-01T16:51:40.937673Z",
     "start_time": "2022-06-01T16:51:40.903794Z"
    }
   },
   "outputs": [],
   "source": [
    "import os\n",
    "import sys\n",
    "project_path = os.path.abspath(os.path.join('..'))\n",
    "\n",
    "if project_path not in sys.path:\n",
    "    sys.path.append(project_path)\n",
    "    "
   ]
  },
  {
   "cell_type": "code",
   "execution_count": 17,
=======
   "execution_count": 103,
>>>>>>> cd75c09116fd04ec4c8e5c049beecb4513bb5710:Application/Build Predictions.ipynb
   "id": "ccc05aa2",
   "metadata": {
    "ExecuteTime": {
     "end_time": "2022-06-01T16:51:41.473327Z",
     "start_time": "2022-06-01T16:51:41.440482Z"
    }
   },
   "outputs": [],
   "source": [
    "from src.features.generate_features import *\n",
    "from src.preprocess.preprocess_ATSF import process\n",
    "## change path\n",
    "# from model_pipeline import *"
   ]
  },
  {
   "cell_type": "code",
<<<<<<< HEAD:app/Build Predictions.ipynb
   "execution_count": 18,
   "id": "e1a7a0c4",
   "metadata": {
    "ExecuteTime": {
     "end_time": "2022-06-01T16:51:43.831530Z",
     "start_time": "2022-06-01T16:51:43.191996Z"
    }
   },
   "outputs": [],
   "source": [
    "data = pd.read_csv('../data/kaggle/data_kaggle.csv')\n",
    "data = process(data)"
   ]
  },
  {
   "cell_type": "code",
   "execution_count": 11,
=======
   "execution_count": 104,
>>>>>>> cd75c09116fd04ec4c8e5c049beecb4513bb5710:Application/Build Predictions.ipynb
   "id": "35d085fe",
   "metadata": {
    "ExecuteTime": {
     "end_time": "2022-06-01T16:50:10.908771Z",
     "start_time": "2022-06-01T16:50:10.874015Z"
    }
   },
   "outputs": [],
   "source": [
    "config_filename = '../src/configs/gen_features_config.json'\n",
    "model_config_filename = '../src/configs/model_config.json'"
   ]
  },
  {
   "cell_type": "code",
<<<<<<< HEAD:app/Build Predictions.ipynb
   "execution_count": 19,
=======
   "execution_count": 105,
>>>>>>> cd75c09116fd04ec4c8e5c049beecb4513bb5710:Application/Build Predictions.ipynb
   "id": "526bef98",
   "metadata": {
    "ExecuteTime": {
     "end_time": "2022-06-01T16:51:57.588124Z",
     "start_time": "2022-06-01T16:51:57.544801Z"
    }
   },
   "outputs": [],
   "source": [
    "features_json = read_json(config_filename)\n",
    "data[features_json['date_col']] = pd.to_datetime(data[features_json['date_col']], dayfirst=True)"
   ]
  },
  {
   "cell_type": "code",
<<<<<<< HEAD:app/Build Predictions.ipynb
   "execution_count": 20,
=======
   "execution_count": 106,
>>>>>>> cd75c09116fd04ec4c8e5c049beecb4513bb5710:Application/Build Predictions.ipynb
   "id": "e057ac99",
   "metadata": {
    "ExecuteTime": {
     "end_time": "2022-06-01T16:52:01.376407Z",
     "start_time": "2022-06-01T16:51:58.075876Z"
    }
   },
   "outputs": [
    {
     "data": {
      "application/vnd.jupyter.widget-view+json": {
<<<<<<< HEAD:app/Build Predictions.ipynb
       "model_id": "22f9c0e1e7d94913972b478351966fb0",
=======
       "model_id": "382dfc27cdd741bf86e85b3e4817ac80",
>>>>>>> cd75c09116fd04ec4c8e5c049beecb4513bb5710:Application/Build Predictions.ipynb
       "version_major": 2,
       "version_minor": 0
      },
      "text/plain": [
       "IntProgress(value=0, max=1)"
      ]
     },
     "metadata": {},
     "output_type": "display_data"
    }
   ],
   "source": [
    "data_features = generate_lagged_features(data=data,\n",
    "                         target_cols=features_json['target_cols'],\n",
    "                         id_cols=features_json['id_cols'],\n",
    "                         date_col=features_json['date_col'],\n",
    "                         lags=features_json['lags'],\n",
    "                         windows=features_json['windows'],\n",
    "                         preagg_methods=features_json['preagg_methods'],\n",
    "                         agg_methods=features_json['agg_methods'],\n",
    "                         dynamic_filters=features_json['dynamic_filters'],\n",
    "                         ewm_params=features_json['ewm_params']\n",
    "                        )"
   ]
  },
  {
   "cell_type": "code",
<<<<<<< HEAD:app/Build Predictions.ipynb
   "execution_count": 14,
=======
   "execution_count": 107,
>>>>>>> cd75c09116fd04ec4c8e5c049beecb4513bb5710:Application/Build Predictions.ipynb
   "id": "e13c4510",
   "metadata": {
    "ExecuteTime": {
     "end_time": "2022-06-01T16:50:26.820117Z",
     "start_time": "2022-06-01T16:50:26.779977Z"
    },
    "scrolled": true
   },
   "outputs": [
    {
     "ename": "NameError",
     "evalue": "name 'choose_model' is not defined",
     "output_type": "error",
     "traceback": [
      "\u001b[0;31m---------------------------------------------------------------------------\u001b[0m",
      "\u001b[0;31mNameError\u001b[0m                                 Traceback (most recent call last)",
      "\u001b[0;32m/var/folders/7r/3bj773_x3qv873q1y8mhs8yh0000gn/T/ipykernel_8590/2808871829.py\u001b[0m in \u001b[0;36m<module>\u001b[0;34m\u001b[0m\n\u001b[0;32m----> 1\u001b[0;31m \u001b[0mchoose_model\u001b[0m\u001b[0;34m(\u001b[0m\u001b[0mmodel_config_filename\u001b[0m\u001b[0;34m)\u001b[0m\u001b[0;34m\u001b[0m\u001b[0;34m\u001b[0m\u001b[0m\n\u001b[0m",
      "\u001b[0;31mNameError\u001b[0m: name 'choose_model' is not defined"
     ]
<<<<<<< HEAD:app/Build Predictions.ipynb
=======
    },
    {
     "data": {
      "application/vnd.jupyter.widget-view+json": {
       "model_id": "4e0d88084ce54ceca1a9e7a30febb89f",
       "version_major": 2,
       "version_minor": 0
      },
      "text/plain": [
       "interactive(children=(Dropdown(description='model', options=('LSTM', 'GRU', 'TFT', 'DeepAR', 'NBeats'), value=…"
      ]
     },
     "metadata": {},
     "output_type": "display_data"
>>>>>>> cd75c09116fd04ec4c8e5c049beecb4513bb5710:Application/Build Predictions.ipynb
    }
   ],
   "source": [
    "choose_model(model_config_filename)"
   ]
  },
  {
   "cell_type": "code",
   "execution_count": 114,
   "id": "85f56aa5",
   "metadata": {},
   "outputs": [
    {
     "name": "stdout",
     "output_type": "stream",
     "text": [
      "Preprocessing:\n"
     ]
    },
    {
     "data": {
      "application/vnd.jupyter.widget-view+json": {
       "model_id": "3cdac7e89db34d83bcbc684d6d52e693",
       "version_major": 2,
       "version_minor": 0
      },
      "text/plain": [
       "  0%|          | 0/2420 [00:00<?, ?it/s]"
      ]
     },
     "metadata": {},
     "output_type": "display_data"
    },
    {
     "name": "stdout",
     "output_type": "stream",
     "text": [
      "Scaling:\n"
     ]
    },
    {
     "data": {
      "application/vnd.jupyter.widget-view+json": {
       "model_id": "c9b5ffb5c72d4f939a0838b6db498f0d",
       "version_major": 2,
       "version_minor": 0
      },
      "text/plain": [
       "  0%|          | 0/10 [00:00<?, ?it/s]"
      ]
     },
     "metadata": {},
     "output_type": "display_data"
    },
    {
     "name": "stdout",
     "output_type": "stream",
     "text": [
      "Training:\n",
      "Epoch 0\n",
      "---------\n"
     ]
    },
    {
     "data": {
      "application/vnd.jupyter.widget-view+json": {
       "model_id": "b90bd24d526b4518b923273a6f614850",
       "version_major": 2,
       "version_minor": 0
      },
      "text/plain": [
       "  0%|          | 0/340 [00:00<?, ?it/s]"
      ]
     },
     "metadata": {},
     "output_type": "display_data"
    },
    {
     "name": "stdout",
     "output_type": "stream",
     "text": [
      "Train loss: 0.6267348054577323\n"
     ]
    },
    {
     "data": {
      "application/vnd.jupyter.widget-view+json": {
       "model_id": "b732b000eba04cd3afd04436113410d7",
       "version_major": 2,
       "version_minor": 0
      },
      "text/plain": [
       "  0%|          | 0/340 [00:00<?, ?it/s]"
      ]
     },
     "metadata": {},
     "output_type": "display_data"
    },
    {
     "name": "stdout",
     "output_type": "stream",
     "text": [
      "Smape = 159.14159284270065\n",
      "\n"
     ]
    },
    {
     "data": {
      "application/vnd.jupyter.widget-view+json": {
       "model_id": "3dee44e89a7a44519075d71c9d1466a1",
       "version_major": 2,
       "version_minor": 0
      },
      "text/plain": [
       "  0%|          | 0/340 [00:00<?, ?it/s]"
      ]
     },
     "metadata": {},
     "output_type": "display_data"
    },
    {
     "data": {
      "application/vnd.jupyter.widget-view+json": {
       "model_id": "583fbaf6aec14e40b2bd15cb5ef0183b",
       "version_major": 2,
       "version_minor": 0
      },
      "text/plain": [
       "  0%|          | 0/12 [00:00<?, ?it/s]"
      ]
     },
     "metadata": {},
     "output_type": "display_data"
    }
   ],
   "source": [
    "model_config = read_json(model_config_filename)\n",
    "res_test = pipeline(data_features, model_config)"
   ]
  },
  {
   "cell_type": "code",
   "execution_count": 10,
   "id": "c1e28fb9",
   "metadata": {},
   "outputs": [],
   "source": [
    "res_test[model_config['target']].to_csv('ans.csv', index_label='id')"
   ]
  },
  {
   "cell_type": "code",
   "execution_count": null,
   "id": "450b52aa",
   "metadata": {},
   "outputs": [],
   "source": []
  }
 ],
 "metadata": {
  "kernelspec": {
   "display_name": "Python 3 (ipykernel)",
   "language": "python",
   "name": "python3"
  },
  "language_info": {
   "codemirror_mode": {
    "name": "ipython",
    "version": 3
   },
   "file_extension": ".py",
   "mimetype": "text/x-python",
   "name": "python",
   "nbconvert_exporter": "python",
   "pygments_lexer": "ipython3",
   "version": "3.9.7"
  },
  "toc": {
   "base_numbering": 1,
   "nav_menu": {},
   "number_sections": true,
   "sideBar": true,
   "skip_h1_title": false,
   "title_cell": "Table of Contents",
   "title_sidebar": "Contents",
   "toc_cell": false,
   "toc_position": {},
   "toc_section_display": true,
   "toc_window_display": false
  }
 },
 "nbformat": 4,
 "nbformat_minor": 5
}
