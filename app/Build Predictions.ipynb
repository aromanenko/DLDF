{
 "cells": [
  {
   "cell_type": "code",
   "execution_count": 15,
   "id": "1c120db8",
   "metadata": {
    "ExecuteTime": {
     "end_time": "2022-06-01T16:51:40.408529Z",
     "start_time": "2022-06-01T16:51:40.366638Z"
    }
   },
   "outputs": [
    {
     "name": "stdout",
     "output_type": "stream",
     "text": [
      "The autoreload extension is already loaded. To reload it, use:\n",
      "  %reload_ext autoreload\n"
     ]
    }
   ],
   "source": [
    "%load_ext autoreload\n",
    "%autoreload 2"
   ]
  },
  {
   "cell_type": "code",
   "execution_count": 16,
   "id": "d69118f7",
   "metadata": {
    "ExecuteTime": {
     "end_time": "2022-06-01T16:51:40.937673Z",
     "start_time": "2022-06-01T16:51:40.903794Z"
    }
   },
   "outputs": [],
   "source": [
    "import os\n",
    "import sys\n",
    "project_path = os.path.abspath(os.path.join('..'))\n",
    "\n",
    "if project_path not in sys.path:\n",
    "    sys.path.append(project_path)\n",
    "    "
   ]
  },
  {
   "cell_type": "code",
   "execution_count": 17,
   "id": "ccc05aa2",
   "metadata": {
    "ExecuteTime": {
     "end_time": "2022-06-01T16:51:41.473327Z",
     "start_time": "2022-06-01T16:51:41.440482Z"
    }
   },
   "outputs": [],
   "source": [
    "from src.features.generate_features import *\n",
    "from src.preprocess.preprocess_ATSF import process\n",
    "## change path\n",
    "# from model_pipeline import *"
   ]
  },
  {
   "cell_type": "code",
   "execution_count": 18,
   "id": "e1a7a0c4",
   "metadata": {
    "ExecuteTime": {
     "end_time": "2022-06-01T16:51:43.831530Z",
     "start_time": "2022-06-01T16:51:43.191996Z"
    }
   },
   "outputs": [],
   "source": [
    "data = pd.read_csv('../data/kaggle/data_kaggle.csv')\n",
    "data = process(data)"
   ]
  },
  {
   "cell_type": "code",
   "execution_count": 11,
   "id": "35d085fe",
   "metadata": {
    "ExecuteTime": {
     "end_time": "2022-06-01T16:50:10.908771Z",
     "start_time": "2022-06-01T16:50:10.874015Z"
    }
   },
   "outputs": [],
   "source": [
    "config_filename = '../src/configs/gen_features_config.json'\n",
    "model_config_filename = '../src/configs/model_config.json'"
   ]
  },
  {
   "cell_type": "code",
   "execution_count": 19,
   "id": "526bef98",
   "metadata": {
    "ExecuteTime": {
     "end_time": "2022-06-01T16:51:57.588124Z",
     "start_time": "2022-06-01T16:51:57.544801Z"
    }
   },
   "outputs": [],
   "source": [
    "features_json = read_json(config_filename)\n",
    "data[features_json['date_col']] = pd.to_datetime(data[features_json['date_col']], dayfirst=True)"
   ]
  },
  {
   "cell_type": "code",
   "execution_count": 20,
   "id": "e057ac99",
   "metadata": {
    "ExecuteTime": {
     "end_time": "2022-06-01T16:52:01.376407Z",
     "start_time": "2022-06-01T16:51:58.075876Z"
    }
   },
   "outputs": [
    {
     "data": {
      "application/vnd.jupyter.widget-view+json": {
       "model_id": "22f9c0e1e7d94913972b478351966fb0",
       "version_major": 2,
       "version_minor": 0
      },
      "text/plain": [
       "IntProgress(value=0, max=1)"
      ]
     },
     "metadata": {},
     "output_type": "display_data"
    }
   ],
   "source": [
    "data_features = generate_lagged_features(data=data,\n",
    "                         target_cols=features_json['target_cols'],\n",
    "                         id_cols=features_json['id_cols'],\n",
    "                         date_col=features_json['date_col'],\n",
    "                         lags=features_json['lags'],\n",
    "                         windows=features_json['windows'],\n",
    "                         preagg_methods=features_json['preagg_methods'],\n",
    "                         agg_methods=features_json['agg_methods'],\n",
    "                         dynamic_filters=features_json['dynamic_filters'],\n",
    "                         ewm_params=features_json['ewm_params']\n",
    "                        )"
   ]
  },
  {
   "cell_type": "code",
   "execution_count": 14,
   "id": "e13c4510",
   "metadata": {
    "ExecuteTime": {
     "end_time": "2022-06-01T16:50:26.820117Z",
     "start_time": "2022-06-01T16:50:26.779977Z"
    },
    "scrolled": true
   },
   "outputs": [
    {
     "ename": "NameError",
     "evalue": "name 'choose_model' is not defined",
     "output_type": "error",
     "traceback": [
      "\u001b[0;31m---------------------------------------------------------------------------\u001b[0m",
      "\u001b[0;31mNameError\u001b[0m                                 Traceback (most recent call last)",
      "\u001b[0;32m/var/folders/7r/3bj773_x3qv873q1y8mhs8yh0000gn/T/ipykernel_8590/2808871829.py\u001b[0m in \u001b[0;36m<module>\u001b[0;34m\u001b[0m\n\u001b[0;32m----> 1\u001b[0;31m \u001b[0mchoose_model\u001b[0m\u001b[0;34m(\u001b[0m\u001b[0mmodel_config_filename\u001b[0m\u001b[0;34m)\u001b[0m\u001b[0;34m\u001b[0m\u001b[0;34m\u001b[0m\u001b[0m\n\u001b[0m",
      "\u001b[0;31mNameError\u001b[0m: name 'choose_model' is not defined"
     ]
    }
   ],
   "source": [
    "choose_model(model_config_filename)"
   ]
  },
  {
   "cell_type": "code",
   "execution_count": 8,
   "id": "85f56aa5",
   "metadata": {},
   "outputs": [
    {
     "name": "stdout",
     "output_type": "stream",
     "text": [
      "Preprocessing:\n"
     ]
    },
    {
     "data": {
      "application/vnd.jupyter.widget-view+json": {
       "model_id": "8a43a02029734f0ea46210ff93636ca8",
       "version_major": 2,
       "version_minor": 0
      },
      "text/plain": [
       "  0%|          | 0/2420 [00:00<?, ?it/s]"
      ]
     },
     "metadata": {},
     "output_type": "display_data"
    },
    {
     "name": "stderr",
     "output_type": "stream",
     "text": [
      "GPU available: True, used: True\n",
      "TPU available: False, using: 0 TPU cores\n",
      "IPU available: False, using: 0 IPUs\n",
      "LOCAL_RANK: 0 - CUDA_VISIBLE_DEVICES: [0]\n",
      "\n",
      "   | Name                               | Type                            | Params\n",
      "----------------------------------------------------------------------------------------\n",
      "0  | loss                               | SMAPE                           | 0     \n",
      "1  | logging_metrics                    | ModuleList                      | 0     \n",
      "2  | input_embeddings                   | MultiEmbedding                  | 1.4 K \n",
      "3  | prescalers                         | ModuleDict                      | 144   \n",
      "4  | static_variable_selection          | VariableSelectionNetwork        | 1.5 K \n",
      "5  | encoder_variable_selection         | VariableSelectionNetwork        | 3.4 K \n",
      "6  | decoder_variable_selection         | VariableSelectionNetwork        | 3.4 K \n",
      "7  | static_context_variable_selection  | GatedResidualNetwork            | 460   \n",
      "8  | static_context_initial_hidden_lstm | GatedResidualNetwork            | 460   \n",
      "9  | static_context_initial_cell_lstm   | GatedResidualNetwork            | 460   \n",
      "10 | static_context_enrichment          | GatedResidualNetwork            | 460   \n",
      "11 | lstm_encoder                       | LSTM                            | 880   \n",
      "12 | lstm_decoder                       | LSTM                            | 880   \n",
      "13 | post_lstm_gate_encoder             | GatedLinearUnit                 | 220   \n",
      "14 | post_lstm_add_norm_encoder         | AddNorm                         | 20    \n",
      "15 | static_enrichment                  | GatedResidualNetwork            | 560   \n",
      "16 | multihead_attn                     | InterpretableMultiHeadAttention | 261   \n",
      "17 | post_attn_gate_norm                | GateAddNorm                     | 240   \n",
      "18 | pos_wise_ff                        | GatedResidualNetwork            | 460   \n",
      "19 | pre_output_gate_norm               | GateAddNorm                     | 240   \n",
      "20 | output_layer                       | Linear                          | 11    \n",
      "----------------------------------------------------------------------------------------\n",
      "15.3 K    Trainable params\n",
      "0         Non-trainable params\n",
      "15.3 K    Total params\n",
      "0.061     Total estimated model params size (MB)\n"
     ]
    },
    {
     "data": {
      "application/vnd.jupyter.widget-view+json": {
       "model_id": "5838a0194a9c41a79133aa903ff3bbb3",
       "version_major": 2,
       "version_minor": 0
      },
      "text/plain": [
       "Training: 0it [00:00, ?it/s]"
      ]
     },
     "metadata": {},
     "output_type": "display_data"
    },
    {
     "name": "stdout",
     "output_type": "stream",
     "text": [
      "Biulding secondary model:\n",
      "Preprocessing:\n"
     ]
    },
    {
     "data": {
      "application/vnd.jupyter.widget-view+json": {
       "model_id": "ef3d8d106db34f9f85a98ba4eda8bbe4",
       "version_major": 2,
       "version_minor": 0
      },
      "text/plain": [
       "  0%|          | 0/2420 [00:00<?, ?it/s]"
      ]
     },
     "metadata": {},
     "output_type": "display_data"
    },
    {
     "name": "stdout",
     "output_type": "stream",
     "text": [
      "Scaling:\n"
     ]
    },
    {
     "data": {
      "application/vnd.jupyter.widget-view+json": {
       "model_id": "3b62797b350248fa899123d54c5278a2",
       "version_major": 2,
       "version_minor": 0
      },
      "text/plain": [
       "  0%|          | 0/10 [00:00<?, ?it/s]"
      ]
     },
     "metadata": {},
     "output_type": "display_data"
    },
    {
     "name": "stdout",
     "output_type": "stream",
     "text": [
      "Epoch 0\n",
      "---------\n"
     ]
    },
    {
     "data": {
      "application/vnd.jupyter.widget-view+json": {
       "model_id": "c95e9cf2cc1c48faa3c6e0158f78d17f",
       "version_major": 2,
       "version_minor": 0
      },
      "text/plain": [
       "  0%|          | 0/340 [00:00<?, ?it/s]"
      ]
     },
     "metadata": {},
     "output_type": "display_data"
    },
    {
     "data": {
      "application/vnd.jupyter.widget-view+json": {
       "model_id": "3bb821a2f838473e92838b3a2e09ade2",
       "version_major": 2,
       "version_minor": 0
      },
      "text/plain": [
       "  0%|          | 0/340 [00:00<?, ?it/s]"
      ]
     },
     "metadata": {},
     "output_type": "display_data"
    },
    {
     "data": {
      "application/vnd.jupyter.widget-view+json": {
       "model_id": "3e722d0d268e444e9f046b2253070e12",
       "version_major": 2,
       "version_minor": 0
      },
      "text/plain": [
       "  0%|          | 0/12 [00:00<?, ?it/s]"
      ]
     },
     "metadata": {},
     "output_type": "display_data"
    }
   ],
   "source": [
    "model_config = read_json(model_config_filename)\n",
    "res_test = pipeline(data_features, model_config)"
   ]
  },
  {
   "cell_type": "code",
   "execution_count": 9,
   "id": "0ea17af5",
   "metadata": {},
   "outputs": [
    {
     "data": {
      "text/html": [
       "<div>\n",
       "<style scoped>\n",
       "    .dataframe tbody tr th:only-of-type {\n",
       "        vertical-align: middle;\n",
       "    }\n",
       "\n",
       "    .dataframe tbody tr th {\n",
       "        vertical-align: top;\n",
       "    }\n",
       "\n",
       "    .dataframe thead th {\n",
       "        text-align: right;\n",
       "    }\n",
       "</style>\n",
       "<table border=\"1\" class=\"dataframe\">\n",
       "  <thead>\n",
       "    <tr style=\"text-align: right;\">\n",
       "      <th></th>\n",
       "      <th>SKU_id</th>\n",
       "      <th>Store_id</th>\n",
       "      <th>Date</th>\n",
       "      <th>Demand</th>\n",
       "    </tr>\n",
       "  </thead>\n",
       "  <tbody>\n",
       "    <tr>\n",
       "      <th>0</th>\n",
       "      <td>1</td>\n",
       "      <td>1</td>\n",
       "      <td>2016-05-23</td>\n",
       "      <td>156.448517</td>\n",
       "    </tr>\n",
       "    <tr>\n",
       "      <th>1</th>\n",
       "      <td>1</td>\n",
       "      <td>1</td>\n",
       "      <td>2016-05-24</td>\n",
       "      <td>45.283524</td>\n",
       "    </tr>\n",
       "    <tr>\n",
       "      <th>2</th>\n",
       "      <td>1</td>\n",
       "      <td>1</td>\n",
       "      <td>2016-05-25</td>\n",
       "      <td>52.282661</td>\n",
       "    </tr>\n",
       "    <tr>\n",
       "      <th>3</th>\n",
       "      <td>1</td>\n",
       "      <td>1</td>\n",
       "      <td>2016-05-26</td>\n",
       "      <td>50.207172</td>\n",
       "    </tr>\n",
       "    <tr>\n",
       "      <th>4</th>\n",
       "      <td>1</td>\n",
       "      <td>1</td>\n",
       "      <td>2016-05-27</td>\n",
       "      <td>52.015919</td>\n",
       "    </tr>\n",
       "    <tr>\n",
       "      <th>...</th>\n",
       "      <td>...</td>\n",
       "      <td>...</td>\n",
       "      <td>...</td>\n",
       "      <td>...</td>\n",
       "    </tr>\n",
       "    <tr>\n",
       "      <th>5965</th>\n",
       "      <td>2</td>\n",
       "      <td>110</td>\n",
       "      <td>2016-06-15</td>\n",
       "      <td>11.916748</td>\n",
       "    </tr>\n",
       "    <tr>\n",
       "      <th>5966</th>\n",
       "      <td>2</td>\n",
       "      <td>110</td>\n",
       "      <td>2016-06-16</td>\n",
       "      <td>7.261536</td>\n",
       "    </tr>\n",
       "    <tr>\n",
       "      <th>5967</th>\n",
       "      <td>2</td>\n",
       "      <td>110</td>\n",
       "      <td>2016-06-17</td>\n",
       "      <td>43.00148</td>\n",
       "    </tr>\n",
       "    <tr>\n",
       "      <th>5968</th>\n",
       "      <td>2</td>\n",
       "      <td>110</td>\n",
       "      <td>2016-06-18</td>\n",
       "      <td>19.580734</td>\n",
       "    </tr>\n",
       "    <tr>\n",
       "      <th>5969</th>\n",
       "      <td>2</td>\n",
       "      <td>110</td>\n",
       "      <td>2016-06-19</td>\n",
       "      <td>0.159409</td>\n",
       "    </tr>\n",
       "  </tbody>\n",
       "</table>\n",
       "<p>5970 rows × 4 columns</p>\n",
       "</div>"
      ],
      "text/plain": [
       "      SKU_id  Store_id       Date      Demand\n",
       "0          1         1 2016-05-23  156.448517\n",
       "1          1         1 2016-05-24   45.283524\n",
       "2          1         1 2016-05-25   52.282661\n",
       "3          1         1 2016-05-26   50.207172\n",
       "4          1         1 2016-05-27   52.015919\n",
       "...      ...       ...        ...         ...\n",
       "5965       2       110 2016-06-15   11.916748\n",
       "5966       2       110 2016-06-16    7.261536\n",
       "5967       2       110 2016-06-17    43.00148\n",
       "5968       2       110 2016-06-18   19.580734\n",
       "5969       2       110 2016-06-19    0.159409\n",
       "\n",
       "[5970 rows x 4 columns]"
      ]
     },
     "execution_count": 9,
     "metadata": {},
     "output_type": "execute_result"
    }
   ],
   "source": [
    "res_test"
   ]
  },
  {
   "cell_type": "code",
   "execution_count": 10,
   "id": "c1e28fb9",
   "metadata": {},
   "outputs": [],
   "source": [
    "res_test[model_config['target']].to_csv('ans.csv', index_label='id')"
   ]
  },
  {
   "cell_type": "code",
   "execution_count": null,
   "id": "086584c1",
   "metadata": {},
   "outputs": [],
   "source": []
  }
 ],
 "metadata": {
  "kernelspec": {
   "display_name": "Python 3 (ipykernel)",
   "language": "python",
   "name": "python3"
  },
  "language_info": {
   "codemirror_mode": {
    "name": "ipython",
    "version": 3
   },
   "file_extension": ".py",
   "mimetype": "text/x-python",
   "name": "python",
   "nbconvert_exporter": "python",
   "pygments_lexer": "ipython3",
   "version": "3.9.7"
  },
  "toc": {
   "base_numbering": 1,
   "nav_menu": {},
   "number_sections": true,
   "sideBar": true,
   "skip_h1_title": false,
   "title_cell": "Table of Contents",
   "title_sidebar": "Contents",
   "toc_cell": false,
   "toc_position": {},
   "toc_section_display": true,
   "toc_window_display": false
  }
 },
 "nbformat": 4,
 "nbformat_minor": 5
}
