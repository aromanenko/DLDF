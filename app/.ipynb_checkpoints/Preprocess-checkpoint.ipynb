{
 "cells": [
  {
   "cell_type": "code",
   "execution_count": 10,
   "id": "95ffde7f",
   "metadata": {
    "ExecuteTime": {
     "end_time": "2022-06-01T16:46:30.852149Z",
     "start_time": "2022-06-01T16:46:30.846934Z"
    }
   },
   "outputs": [],
   "source": [
    "import os\n",
    "import sys\n",
    "import pandas as pd\n",
    "\n",
    "\n",
    "project_path = os.path.abspath(os.path.join('..'))\n",
    "\n",
    "if project_path not in sys.path:\n",
    "    sys.path.append(project_path)\n",
    "    \n",
    "from src.preprocess.preprocess_ATSF import process"
   ]
  },
  {
   "cell_type": "code",
   "execution_count": 11,
   "id": "bebd8914",
   "metadata": {
    "ExecuteTime": {
     "end_time": "2022-06-01T16:46:31.620910Z",
     "start_time": "2022-06-01T16:46:30.961613Z"
    }
   },
   "outputs": [],
   "source": [
    "data = pd.read_csv('../data/kaggle/data_kaggle.csv')\n",
    "data = process(data)"
   ]
  },
  {
   "cell_type": "code",
   "execution_count": 12,
   "id": "737c3ec2",
   "metadata": {
    "ExecuteTime": {
     "end_time": "2022-06-01T16:46:32.855653Z",
     "start_time": "2022-06-01T16:46:31.802669Z"
    }
   },
   "outputs": [],
   "source": [
    "data.to_csv('data_preprocessed.csv', index=False)"
   ]
  },
  {
   "cell_type": "code",
   "execution_count": null,
   "id": "5d36f0de",
   "metadata": {},
   "outputs": [],
   "source": []
  }
 ],
 "metadata": {
  "kernelspec": {
   "display_name": "Python 3 (ipykernel)",
   "language": "python",
   "name": "python3"
  },
  "language_info": {
   "codemirror_mode": {
    "name": "ipython",
    "version": 3
   },
   "file_extension": ".py",
   "mimetype": "text/x-python",
   "name": "python",
   "nbconvert_exporter": "python",
   "pygments_lexer": "ipython3",
   "version": "3.9.7"
  },
  "toc": {
   "base_numbering": 1,
   "nav_menu": {},
   "number_sections": true,
   "sideBar": true,
   "skip_h1_title": false,
   "title_cell": "Table of Contents",
   "title_sidebar": "Contents",
   "toc_cell": false,
   "toc_position": {},
   "toc_section_display": true,
   "toc_window_display": false
  }
 },
 "nbformat": 4,
 "nbformat_minor": 5
}
