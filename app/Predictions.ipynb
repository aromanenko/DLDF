{
 "cells": [
  {
   "cell_type": "code",
   "execution_count": 1,
   "id": "1c120db8",
   "metadata": {
    "ExecuteTime": {
     "end_time": "2022-06-05T15:01:03.732672Z",
     "start_time": "2022-06-05T15:01:03.702690Z"
    }
   },
   "outputs": [],
   "source": [
    "%load_ext autoreload\n",
    "%autoreload 2"
   ]
  },
  {
   "cell_type": "code",
   "execution_count": 2,
   "id": "d69118f7",
   "metadata": {
    "ExecuteTime": {
     "end_time": "2022-06-05T15:01:03.755565Z",
     "start_time": "2022-06-05T15:01:03.736828Z"
    }
   },
   "outputs": [],
   "source": [
    "import os\n",
    "import sys\n",
    "\n",
    "project_path = os.path.abspath(os.path.join('..'))\n",
    "\n",
    "if project_path not in sys.path:\n",
    "    sys.path.append(project_path)"
   ]
  },
  {
   "cell_type": "code",
   "execution_count": 3,
   "id": "ccc05aa2",
   "metadata": {
    "ExecuteTime": {
     "end_time": "2022-06-05T15:01:08.310927Z",
     "start_time": "2022-06-05T15:01:03.758317Z"
    }
   },
   "outputs": [],
   "source": [
    "from src.features.generate_features import *\n",
    "from src.models.model_pipeline import *\n",
    "from src.preprocess.preprocess_ATSF import process\n",
    "## change path\n",
    "# from model_pipeline import *"
   ]
  },
  {
   "cell_type": "code",
   "execution_count": 4,
   "id": "e1a7a0c4",
   "metadata": {
    "ExecuteTime": {
     "end_time": "2022-06-05T15:01:08.724287Z",
     "start_time": "2022-06-05T15:01:08.314974Z"
    }
   },
   "outputs": [],
   "source": [
    "## read raw data\n",
    "data = pd.read_csv('../data/kaggle/data_kaggle.csv')\n",
    "\n",
    "## custom process function, for your data rewrite process function\n",
    "data = process(data)"
   ]
  },
  {
   "cell_type": "code",
   "execution_count": 5,
   "id": "35d085fe",
   "metadata": {
    "ExecuteTime": {
     "end_time": "2022-06-05T15:01:08.759749Z",
     "start_time": "2022-06-05T15:01:08.725894Z"
    }
   },
   "outputs": [],
   "source": [
    "## configs paths\n",
    "\n",
    "config_filename = '../src/configs/gen_features_config.json'\n",
    "model_config_filename = '../src/configs/model_config.json'"
   ]
  },
  {
   "cell_type": "code",
   "execution_count": 6,
   "id": "526bef98",
   "metadata": {
    "ExecuteTime": {
     "end_time": "2022-06-05T15:01:08.805817Z",
     "start_time": "2022-06-05T15:01:08.761505Z"
    }
   },
   "outputs": [],
   "source": [
    "features_json = read_json(config_filename)\n",
    "data[features_json['date_col']] = pd.to_datetime(data[features_json['date_col']], dayfirst=True)"
   ]
  },
  {
   "cell_type": "code",
   "execution_count": 7,
   "id": "e057ac99",
   "metadata": {
    "ExecuteTime": {
     "end_time": "2022-06-05T15:01:12.173882Z",
     "start_time": "2022-06-05T15:01:08.807356Z"
    }
   },
   "outputs": [
    {
     "data": {
      "application/vnd.jupyter.widget-view+json": {
       "model_id": "7e6cc042a86140ff97dd833a7baeacc3",
       "version_major": 2,
       "version_minor": 0
      },
      "text/plain": [
       "IntProgress(value=0, max=1)"
      ]
     },
     "metadata": {},
     "output_type": "display_data"
    }
   ],
   "source": [
    "## create features\n",
    "\n",
    "data_features = generate_lagged_features(data=data,\n",
    "                         target_cols=features_json['target_cols'],\n",
    "                         id_cols=features_json['id_cols'],\n",
    "                         date_col=features_json['date_col'],\n",
    "                         lags=features_json['lags'],\n",
    "                         windows=features_json['windows'],\n",
    "                         preagg_methods=features_json['preagg_methods'],\n",
    "                         agg_methods=features_json['agg_methods'],\n",
    "                         dynamic_filters=features_json['dynamic_filters'],\n",
    "                         ewm_params=features_json['ewm_params']\n",
    "                        )"
   ]
  },
  {
   "cell_type": "code",
   "execution_count": 8,
   "id": "e13c4510",
   "metadata": {
    "ExecuteTime": {
     "end_time": "2022-06-05T15:01:12.266356Z",
     "start_time": "2022-06-05T15:01:12.180175Z"
    },
    "scrolled": true
   },
   "outputs": [
    {
     "name": "stdout",
     "output_type": "stream",
     "text": [
      "Choose model:\n"
     ]
    },
    {
     "data": {
      "application/vnd.jupyter.widget-view+json": {
       "model_id": "fe58400b2514450d981caf8689201095",
       "version_major": 2,
       "version_minor": 0
      },
      "text/plain": [
       "interactive(children=(Dropdown(description='model', options=('LSTM', 'GRU', 'TFT', 'DeepAR', 'NBeats'), value=…"
      ]
     },
     "metadata": {},
     "output_type": "display_data"
    }
   ],
   "source": [
    "## choose available models\n",
    "\n",
    "choose_model(model_config_filename)"
   ]
  },
  {
   "cell_type": "code",
   "execution_count": 9,
   "id": "85f56aa5",
   "metadata": {
    "ExecuteTime": {
     "end_time": "2022-06-05T15:02:41.503419Z",
     "start_time": "2022-06-05T15:01:12.334628Z"
    },
    "scrolled": true
   },
   "outputs": [
    {
     "name": "stdout",
     "output_type": "stream",
     "text": [
      "Preprocessing:\n"
     ]
    },
    {
     "data": {
      "application/vnd.jupyter.widget-view+json": {
       "model_id": "23369100efd641efb4209785851943e3",
       "version_major": 2,
       "version_minor": 0
      },
      "text/plain": [
       "  0%|          | 0/2640 [00:00<?, ?it/s]"
      ]
     },
     "metadata": {},
     "output_type": "display_data"
    },
    {
     "name": "stdout",
     "output_type": "stream",
     "text": [
      "Scaling:\n"
     ]
    },
    {
     "data": {
      "application/vnd.jupyter.widget-view+json": {
       "model_id": "784015570c854dba9b85df6771b5c6ea",
       "version_major": 2,
       "version_minor": 0
      },
      "text/plain": [
       "  0%|          | 0/11 [00:00<?, ?it/s]"
      ]
     },
     "metadata": {},
     "output_type": "display_data"
    },
    {
     "name": "stdout",
     "output_type": "stream",
     "text": [
      "Training:\n",
      "Epoch 0\n",
      "---------\n"
     ]
    },
    {
     "data": {
      "application/vnd.jupyter.widget-view+json": {
       "model_id": "4b8f69f0174f410e997010165862d463",
       "version_major": 2,
       "version_minor": 0
      },
      "text/plain": [
       "  0%|          | 0/340 [00:00<?, ?it/s]"
      ]
     },
     "metadata": {},
     "output_type": "display_data"
    },
    {
     "name": "stdout",
     "output_type": "stream",
     "text": [
      "Train loss: 0.27819206469199237\n"
     ]
    },
    {
     "data": {
      "application/vnd.jupyter.widget-view+json": {
       "model_id": "1746691fa108463e8d573b10d066de64",
       "version_major": 2,
       "version_minor": 0
      },
      "text/plain": [
       "  0%|          | 0/340 [00:00<?, ?it/s]"
      ]
     },
     "metadata": {},
     "output_type": "display_data"
    },
    {
     "name": "stdout",
     "output_type": "stream",
     "text": [
      "Smape = 86.33790989856902\n",
      "\n"
     ]
    },
    {
     "data": {
      "application/vnd.jupyter.widget-view+json": {
       "model_id": "27e05d477c1c480ea484ee53e5eca4d2",
       "version_major": 2,
       "version_minor": 0
      },
      "text/plain": [
       "  0%|          | 0/340 [00:00<?, ?it/s]"
      ]
     },
     "metadata": {},
     "output_type": "display_data"
    },
    {
     "data": {
      "application/vnd.jupyter.widget-view+json": {
       "model_id": "d7e5b1f6e44b4abeae63172cd1ad516d",
       "version_major": 2,
       "version_minor": 0
      },
      "text/plain": [
       "  0%|          | 0/12 [00:00<?, ?it/s]"
      ]
     },
     "metadata": {},
     "output_type": "display_data"
    }
   ],
   "source": [
    "model_config = read_json(model_config_filename)\n",
    "forecast = pipeline(data_features, model_config)"
   ]
  },
  {
   "cell_type": "code",
   "execution_count": 11,
   "id": "0ea17af5",
   "metadata": {
    "ExecuteTime": {
     "end_time": "2022-06-05T15:03:06.646029Z",
     "start_time": "2022-06-05T15:03:06.582697Z"
    },
    "scrolled": true
   },
   "outputs": [
    {
     "data": {
      "text/html": [
       "<div>\n",
       "<style scoped>\n",
       "    .dataframe tbody tr th:only-of-type {\n",
       "        vertical-align: middle;\n",
       "    }\n",
       "\n",
       "    .dataframe tbody tr th {\n",
       "        vertical-align: top;\n",
       "    }\n",
       "\n",
       "    .dataframe thead th {\n",
       "        text-align: right;\n",
       "    }\n",
       "</style>\n",
       "<table border=\"1\" class=\"dataframe\">\n",
       "  <thead>\n",
       "    <tr style=\"text-align: right;\">\n",
       "      <th></th>\n",
       "      <th>SKU_id</th>\n",
       "      <th>Store_id</th>\n",
       "      <th>Date</th>\n",
       "      <th>Demand</th>\n",
       "    </tr>\n",
       "  </thead>\n",
       "  <tbody>\n",
       "    <tr>\n",
       "      <th>5692</th>\n",
       "      <td>2</td>\n",
       "      <td>97</td>\n",
       "      <td>2016-06-11</td>\n",
       "      <td>50.006516</td>\n",
       "    </tr>\n",
       "    <tr>\n",
       "      <th>1193</th>\n",
       "      <td>1</td>\n",
       "      <td>43</td>\n",
       "      <td>2016-06-09</td>\n",
       "      <td>234.724335</td>\n",
       "    </tr>\n",
       "    <tr>\n",
       "      <th>2323</th>\n",
       "      <td>1</td>\n",
       "      <td>83</td>\n",
       "      <td>2016-06-19</td>\n",
       "      <td>391.046326</td>\n",
       "    </tr>\n",
       "  </tbody>\n",
       "</table>\n",
       "</div>"
      ],
      "text/plain": [
       "      SKU_id  Store_id       Date      Demand\n",
       "5692       2        97 2016-06-11   50.006516\n",
       "1193       1        43 2016-06-09  234.724335\n",
       "2323       1        83 2016-06-19  391.046326"
      ]
     },
     "execution_count": 11,
     "metadata": {},
     "output_type": "execute_result"
    }
   ],
   "source": [
    "## check results\n",
    "\n",
    "forecast.sample(3)"
   ]
  },
  {
   "cell_type": "code",
   "execution_count": 10,
   "id": "c1e28fb9",
   "metadata": {},
   "outputs": [],
   "source": [
    "## save anywhere\n",
    "# res_test[model_config['target']].to_csv('ans.csv', index_label='id')"
   ]
  },
  {
   "cell_type": "code",
   "execution_count": null,
   "id": "086584c1",
   "metadata": {},
   "outputs": [],
   "source": []
  }
 ],
 "metadata": {
  "kernelspec": {
   "display_name": "Python 3 (ipykernel)",
   "language": "python",
   "name": "python3"
  },
  "language_info": {
   "codemirror_mode": {
    "name": "ipython",
    "version": 3
   },
   "file_extension": ".py",
   "mimetype": "text/x-python",
   "name": "python",
   "nbconvert_exporter": "python",
   "pygments_lexer": "ipython3",
   "version": "3.9.7"
  },
  "toc": {
   "base_numbering": 1,
   "nav_menu": {},
   "number_sections": true,
   "sideBar": true,
   "skip_h1_title": false,
   "title_cell": "Table of Contents",
   "title_sidebar": "Contents",
   "toc_cell": false,
   "toc_position": {},
   "toc_section_display": true,
   "toc_window_display": false
  }
 },
 "nbformat": 4,
 "nbformat_minor": 5
}
