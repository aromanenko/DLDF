{
 "cells": [
  {
   "cell_type": "code",
   "execution_count": 36,
   "metadata": {},
   "outputs": [],
   "source": [
    "# импортируем библиотеки\n",
    "import numpy as np \n",
    "import pandas as pd \n",
    "from itertools import product\n",
    "from copy import deepcopy\n",
    "\n",
    "import matplotlib.pyplot as plt\n",
    "%matplotlib inline"
   ]
  },
  {
   "cell_type": "code",
   "execution_count": 37,
   "metadata": {},
   "outputs": [],
   "source": [
    "# загружаем данные\n",
    "data_path = './'\n",
    "train = pd.read_csv(data_path+'/train.csv', sep=';')\n",
    "test = pd.read_csv(data_path+'/test.csv', sep=';')\n",
    "test_y = pd.read_csv(data_path+'/test_answer.csv', sep=';')"
   ]
  },
  {
   "cell_type": "code",
   "execution_count": 38,
   "metadata": {},
   "outputs": [],
   "source": [
    "# дату в формат даты\n",
    "train.Date = pd.to_datetime(train.Date, format='%d.%m.%Y')\n",
    "\n",
    "# \n",
    "train.Promo.fillna(0, inplace=True)"
   ]
  },
  {
   "cell_type": "code",
   "execution_count": 39,
   "metadata": {},
   "outputs": [],
   "source": [
    "def percentile(n):\n",
    "    '''Calculate n - percentile of data'''\n",
    "    def percentile_(x):\n",
    "        return np.percentile(x, n)\n",
    "    percentile_.__name__ = 'pctl%s' % n\n",
    "    return percentile_\n",
    "\n",
    "# train[['SKU_id', 'Store_id', 'Demand']].groupby(['SKU_id', 'Store_id']).agg({'mean', 'std', percentile(50)})\n",
    "\n",
    "# добавляем лаги\n",
    "def lagged_features(df\n",
    "                    , target_var = 'demand'\n",
    "                    , org_id_columns = ['product_rk', 'store_location_rk']\n",
    "                    , all_id_columns =['product_rk', 'store_location_rk', 'period_start_dt']\n",
    "                    , lags = [7, 14, 21, 28]\n",
    "                    , windows = [7, 14]\n",
    "                    , aggregation_methods = {'mean', 'median', percentile(10),  percentile(90)}\n",
    "                    , promo_filters = [0, 1]\n",
    "                    , deficit_filters = [0, 1]\n",
    "                    , promo_column = 'Promo'\n",
    "                    , deficit_column = 'Deficit'\n",
    "                    ):\n",
    "\n",
    "    \n",
    "    filter_mapping = {0:'n', 1:'o', 2:'a'}\n",
    "    \n",
    "    \n",
    "    for p, d in product(promo_filters, deficit_filters):\n",
    "        for w in windows:\n",
    "            \n",
    "            # define dates for each SKU and Store pairs        \n",
    "            p_idx = d_idx = df.index>=0\n",
    "            if p <2:\n",
    "                p_idx = df[promo_column]== p\n",
    "            if d <2:\n",
    "                p_idx = df[deficit_column] == d \n",
    "            \n",
    "            out_df = deepcopy(df)\n",
    "            \n",
    "            if len(df[p_idx&d_idx].index)>0:\n",
    "                lf_df = df[p_idx&d_idx].set_index(all_id_columns)[target_var].\\\n",
    "                     groupby(level=org_id_columns).apply(lambda x: x.rolling(window=w, min_periods = 1).agg(aggregation_methods))\n",
    "\n",
    "    #             # get rid of multi-index in\n",
    "    #             lf_df.columns = [x[1] for x in lf_df.columns]\n",
    "\n",
    "                for l in lags:\n",
    "\n",
    "                    new_names = {x: \"lag{0}_wdw{1}_{2}_{3}prm_{4}dfc\".\n",
    "                                  format(l, w, x, filter_mapping[p],filter_mapping[d]) for x in lf_df.columns }\n",
    "\n",
    "\n",
    "                    out_df = pd.merge(out_df, lf_df.shift(l).reset_index().rename(columns = new_names),\n",
    "                        how='left', on =all_id_columns )\n",
    "            \n",
    "    return out_df"
   ]
  },
  {
   "cell_type": "code",
   "execution_count": 40,
   "metadata": {},
   "outputs": [],
   "source": [
    "# a = train\n",
    "a = train[(train['SKU_id']==1) & (train['Store_id']==1)]\n",
    "# a['Deficit'] = 0\n",
    "# a.PROMO_FLag.fillna(0, inplace=True).\n",
    "\n",
    "# lf = lagged_features(a, promo_filters = [2] , deficit_filters = [2])\n",
    "\n",
    "train_data_lagged_features = lagged_features(a, target_var = 'Demand'\n",
    "                    , org_id_columns = ['Store_id', 'SKU_id']\n",
    "                    , all_id_columns =['Store_id', 'SKU_id', 'Date']\n",
    "                    , lags = [5, 9, 12, 26, 52]\n",
    "                    , windows = [4, 12, 26]\n",
    "                    , aggregation_methods = {'mean', 'median', percentile(10),  percentile(90)}\n",
    "                    , promo_filters = [0, 2]\n",
    "                    , deficit_filters = [2]\n",
    "                    , promo_column = 'Promo'\n",
    "                    , deficit_column = ''\n",
    "                    )"
   ]
  },
  {
   "cell_type": "code",
   "execution_count": 41,
   "metadata": {},
   "outputs": [
    {
     "data": {
      "text/plain": [
       "Index(['Store_id', 'SKU_id', 'Date', 'Promo', 'Demand', 'Regular_Price',\n",
       "       'Promo_Price', 'lag5_wdw26_median_aprm_adfc',\n",
       "       'lag5_wdw26_pctl90_aprm_adfc', 'lag5_wdw26_pctl10_aprm_adfc',\n",
       "       'lag5_wdw26_mean_aprm_adfc', 'lag9_wdw26_median_aprm_adfc',\n",
       "       'lag9_wdw26_pctl90_aprm_adfc', 'lag9_wdw26_pctl10_aprm_adfc',\n",
       "       'lag9_wdw26_mean_aprm_adfc', 'lag12_wdw26_median_aprm_adfc',\n",
       "       'lag12_wdw26_pctl90_aprm_adfc', 'lag12_wdw26_pctl10_aprm_adfc',\n",
       "       'lag12_wdw26_mean_aprm_adfc', 'lag26_wdw26_median_aprm_adfc',\n",
       "       'lag26_wdw26_pctl90_aprm_adfc', 'lag26_wdw26_pctl10_aprm_adfc',\n",
       "       'lag26_wdw26_mean_aprm_adfc', 'lag52_wdw26_median_aprm_adfc',\n",
       "       'lag52_wdw26_pctl90_aprm_adfc', 'lag52_wdw26_pctl10_aprm_adfc',\n",
       "       'lag52_wdw26_mean_aprm_adfc'],\n",
       "      dtype='object')"
      ]
     },
     "execution_count": 41,
     "metadata": {},
     "output_type": "execute_result"
    }
   ],
   "source": [
    "train_data_lagged_features.columns"
   ]
  }
 ],
 "metadata": {
  "kernelspec": {
   "display_name": "Python 3",
   "language": "python",
   "name": "python3"
  },
  "language_info": {
   "codemirror_mode": {
    "name": "ipython",
    "version": 3
   },
   "file_extension": ".py",
   "mimetype": "text/x-python",
   "name": "python",
   "nbconvert_exporter": "python",
   "pygments_lexer": "ipython3",
   "version": "3.6.8"
  }
 },
 "nbformat": 4,
 "nbformat_minor": 2
}
