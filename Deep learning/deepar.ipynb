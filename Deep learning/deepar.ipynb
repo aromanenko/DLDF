{
 "cells": [
  {
   "cell_type": "code",
   "execution_count": 1,
   "metadata": {},
   "outputs": [
    {
     "name": "stderr",
     "output_type": "stream",
     "text": [
      "C:\\ProgramData\\Anaconda3\\lib\\site-packages\\statsmodels\\tsa\\base\\tsa_model.py:7: FutureWarning: pandas.Int64Index is deprecated and will be removed from pandas in a future version. Use pandas.Index with the appropriate dtype instead.\n",
      "  from pandas import (to_datetime, Int64Index, DatetimeIndex, Period,\n",
      "C:\\ProgramData\\Anaconda3\\lib\\site-packages\\statsmodels\\tsa\\base\\tsa_model.py:7: FutureWarning: pandas.Float64Index is deprecated and will be removed from pandas in a future version. Use pandas.Index with the appropriate dtype instead.\n",
      "  from pandas import (to_datetime, Int64Index, DatetimeIndex, Period,\n"
     ]
    }
   ],
   "source": [
    "from functions import *\n",
    "from architectures import *\n",
    "\n",
    "%load_ext autoreload\n",
    "%autoreload 2"
   ]
  },
  {
   "cell_type": "markdown",
   "metadata": {},
   "source": [
    "## -----------------------------------------------------------------------------------------------------------------------------"
   ]
  },
  {
   "cell_type": "code",
   "execution_count": 2,
   "metadata": {},
   "outputs": [],
   "source": [
    "data_lagged_features = pd.read_csv('notoptshit.csv')\n",
    "data_lagged_features['Date'] = pd.to_datetime(data_lagged_features['Date'])"
   ]
  },
  {
   "cell_type": "code",
   "execution_count": 3,
   "metadata": {},
   "outputs": [
    {
     "name": "stderr",
     "output_type": "stream",
     "text": [
      "100%|██████████████████████████████████████████████████████████████████████████████████| 72/72 [00:19<00:00,  3.72it/s]\n"
     ]
    }
   ],
   "source": [
    "for c in tqdm(data_lagged_features.drop(['Date', 'Demand', 'Store_id', 'SKU_id'], axis=1).columns):\n",
    "    a = data_lagged_features[[c, 'Store_id', 'SKU_id', 'Date']].groupby(['Store_id', 'SKU_id']).apply(lambda x : x.set_index('Date').rolling('5D', min_periods=1).mean())[[c]].reset_index()\n",
    "    merged = data_lagged_features.merge(a, on=['Store_id', 'SKU_id', 'Date'])\n",
    "    data_lagged_features.loc[data_lagged_features[c].isna(), c] = merged[data_lagged_features[c].isna()][c+'_y']"
   ]
  },
  {
   "cell_type": "code",
   "execution_count": 4,
   "metadata": {},
   "outputs": [
    {
     "data": {
      "application/vnd.jupyter.widget-view+json": {
       "model_id": "617e2b94f3744ade90babf4f5038b260",
       "version_major": 2,
       "version_minor": 0
      },
      "text/plain": [
       "  0%|          | 0/16280 [00:00<?, ?it/s]"
      ]
     },
     "metadata": {},
     "output_type": "display_data"
    }
   ],
   "source": [
    "from tqdm.contrib.itertools import product\n",
    "\n",
    "for c, store, sku in product(data_lagged_features.drop(['Date', 'Demand'], axis=1).columns,\n",
    "                      data_lagged_features['Store_id'].unique(), data_lagged_features['SKU_id'].unique()):\n",
    "    cond = (data_lagged_features['SKU_id'] == sku) & (data_lagged_features['Store_id'] == store)\n",
    "    data_lagged_features.loc[cond, c] = data_lagged_features[cond][c].fillna(data_lagged_features[cond][c].mean())"
   ]
  },
  {
   "cell_type": "code",
   "execution_count": 5,
   "metadata": {},
   "outputs": [],
   "source": [
    "for c in data_lagged_features.drop(['Date', 'Demand'], axis=1).columns:\n",
    "    for sku in data_lagged_features['SKU_id'].unique():\n",
    "        cond = (data_lagged_features['SKU_id'] == sku)\n",
    "        data_lagged_features.loc[cond, c] = data_lagged_features[cond][c].fillna(data_lagged_features[cond][c].mean())"
   ]
  },
  {
   "cell_type": "code",
   "execution_count": 6,
   "metadata": {},
   "outputs": [],
   "source": [
    "df_train, df_test, target_mean, target_stdev, target, features = preprocess(data_lagged_features, scl=0)"
   ]
  },
  {
   "cell_type": "code",
   "execution_count": 7,
   "metadata": {},
   "outputs": [],
   "source": [
    "set_random_seed(7)"
   ]
  },
  {
   "cell_type": "code",
   "execution_count": 8,
   "metadata": {},
   "outputs": [],
   "source": [
    "df_train = df_train.reset_index()\n",
    "df_test = df_test.reset_index()\n",
    "\n",
    "df_train[\"time_idx\"] = df_train['Date'].dt.dayofyear + (df_train['Date'].dt.year - 2015) * 365\n",
    "df_test[\"time_idx\"] = df_test['Date'].dt.dayofyear + (df_test['Date'].dt.year - 2015) * 365\n",
    "min_time_idx = df_train[\"time_idx\"].min()\n",
    "df_train[\"time_idx\"] -= min_time_idx\n",
    "df_test[\"time_idx\"] -= min_time_idx"
   ]
  },
  {
   "cell_type": "code",
   "execution_count": 9,
   "metadata": {
    "scrolled": true
   },
   "outputs": [],
   "source": [
    "df_train['Store_id'] = df_train['Store_id'].astype(str)\n",
    "df_train['SKU_id'] = df_train['SKU_id'].astype(str)\n",
    "df_train['Promo'] = df_train['Promo'].astype(str)\n",
    "df_train['weekday'] = df_train['weekday'].astype(str)\n",
    "df_train['monthday'] = df_train['monthday'].astype(str)\n",
    "\n",
    "df_test['Store_id'] = df_test['Store_id'].astype(str)\n",
    "df_test['SKU_id'] = df_test['SKU_id'].astype(str)\n",
    "df_test['Promo'] = df_test['Promo'].astype(str)\n",
    "df_test['weekday'] = df_test['weekday'].astype(str)\n",
    "df_test['monthday'] = df_test['monthday'].astype(str)"
   ]
  },
  {
   "cell_type": "code",
   "execution_count": 10,
   "metadata": {},
   "outputs": [],
   "source": [
    "#new_stores = df_test[~df_test['Store_id'].isin(df_train['Store_id'])]['Store_id'].unique()\n",
    "#df_test.loc[df_test['Store_id'].isin(new_stores), \"Store_id\"] = \"99\"\n",
    "#df_test = df_test.drop(df_test[df_test['Store_id'].isin(new_stores)].index)"
   ]
  },
  {
   "cell_type": "code",
   "execution_count": 11,
   "metadata": {},
   "outputs": [],
   "source": [
    "df_test['Demand'] = 0"
   ]
  },
  {
   "cell_type": "code",
   "execution_count": 58,
   "metadata": {},
   "outputs": [],
   "source": [
    "from pytorch_forecasting.data.encoders import NaNLabelEncoder\n",
    "\n",
    "from pytorch_forecasting.data import (\n",
    "    TimeSeriesDataSet,\n",
    "    GroupNormalizer\n",
    ")\n",
    "#max_prediction_length = 28\n",
    "#max_encoder_length = 60\n",
    "#\n",
    "#training = TimeSeriesDataSet(\n",
    "#    df_train,\n",
    "#    time_idx=\"time_idx\",\n",
    "#    target=\"Demand\",\n",
    "#    group_ids=[\"Store_id\", \"SKU_id\"],\n",
    "#    #min_encoder_length=0,  # allow predictions without history\n",
    "#    max_encoder_length=max_encoder_length,\n",
    "#    #min_prediction_length=1,\n",
    "#    max_prediction_length=max_prediction_length,\n",
    "#    static_categoricals=[\"Store_id\", \"SKU_id\"],\n",
    "#    static_reals=[],\n",
    "#    time_varying_known_categoricals=[\"Promo\", \"weekday\", \"monthday\"],\n",
    "#    variable_groups={},\n",
    "#    time_varying_known_reals=[\n",
    "#        \"time_idx\",\n",
    "#        \"Regular_Price\",\n",
    "#        \"Actual_Price\",\n",
    "#        \"Promo_percent\"\n",
    "#    ] + df_train.columns[df_train.columns.str.contains('lag')].values.tolist(),\n",
    "#    time_varying_unknown_categoricals=[],\n",
    "#    time_varying_unknown_reals=[\"Demand\"],\n",
    "#    target_normalizer=GroupNormalizer(\n",
    "#        groups=[\"Store_id\", \"SKU_id\"]\n",
    "#    ),\n",
    "#    categorical_encoders={'Store_id': NaNLabelEncoder(add_nan=True)},\n",
    "#    #add_relative_time_idx=True,\n",
    "#    add_target_scales=True,\n",
    "#    add_encoder_length=True,\n",
    "#    allow_missing_timesteps=True\n",
    "#)\n",
    "#\n",
    "#batch_size = 64\n",
    "#train_dataloader = training.to_dataloader(\n",
    "#    train=True, batch_size=batch_size, num_workers=0\n",
    "#)\n",
    "\n",
    "max_encoder_length = 60\n",
    "max_prediction_length = 28\n",
    "\n",
    "context_length = max_encoder_length\n",
    "prediction_length = max_prediction_length\n",
    "\n",
    "training = TimeSeriesDataSet(\n",
    "    df_train,\n",
    "    time_idx=\"time_idx\",\n",
    "    target=\"Demand\",\n",
    "    categorical_encoders={\"Store_id\": NaNLabelEncoder().fit(df_train.Store_id)},\n",
    "    time_varying_known_categoricals=[\"Promo\", \"weekday\", \"monthday\"],\n",
    "    time_varying_known_reals=[\n",
    "        \"time_idx\",\n",
    "        \"Regular_Price\",\n",
    "        \"Actual_Price\",\n",
    "        \"Promo_percent\"\n",
    "    ] + df_train.columns[df_train.columns.str.contains('lag')].values.tolist(),\n",
    "    group_ids=[\"Store_id\", \"SKU_id\"],\n",
    "    time_varying_unknown_reals=[\"Demand\"],\n",
    "    max_encoder_length=context_length,\n",
    "    max_prediction_length=prediction_length,\n",
    ")\n",
    "\n",
    "batch_size = 128\n",
    "train_dataloader = training.to_dataloader(train=True, batch_size=batch_size, num_workers=0)"
   ]
  },
  {
   "cell_type": "code",
   "execution_count": 59,
   "metadata": {},
   "outputs": [
    {
     "name": "stderr",
     "output_type": "stream",
     "text": [
      "GPU available: True, used: True\n",
      "TPU available: False, using: 0 TPU cores\n",
      "IPU available: False, using: 0 IPUs\n"
     ]
    }
   ],
   "source": [
    "import pytorch_lightning as pl\n",
    "from pytorch_forecasting.metrics import QuantileLoss, SMAPE\n",
    "from pytorch_forecasting.models import TemporalFusionTransformer, NBeats, DeepAR\n",
    "\n",
    "\n",
    "trainer = pl.Trainer(\n",
    "    max_epochs=5,\n",
    "    gpus=1,\n",
    "    gradient_clip_val=0.1,\n",
    ")\n",
    "\n",
    "net = DeepAR.from_dataset(training, learning_rate=4e-3, weight_decay=1e-2)"
   ]
  },
  {
   "cell_type": "code",
   "execution_count": 90,
   "metadata": {},
   "outputs": [
    {
     "name": "stderr",
     "output_type": "stream",
     "text": [
      "LOCAL_RANK: 0 - CUDA_VISIBLE_DEVICES: [0]\n",
      "\n",
      "  | Name                   | Type                   | Params\n",
      "------------------------------------------------------------------\n",
      "0 | loss                   | NormalDistributionLoss | 0     \n",
      "1 | logging_metrics        | ModuleList             | 0     \n",
      "2 | embeddings             | MultiEmbedding         | 378   \n",
      "3 | rnn                    | LSTM                   | 4.8 K \n",
      "4 | distribution_projector | Linear                 | 22    \n",
      "------------------------------------------------------------------\n",
      "5.2 K     Trainable params\n",
      "0         Non-trainable params\n",
      "5.2 K     Total params\n",
      "0.021     Total estimated model params size (MB)\n"
     ]
    },
    {
     "data": {
      "application/vnd.jupyter.widget-view+json": {
       "model_id": "285951436be74a2b90f3cddb2cec5e19",
       "version_major": 2,
       "version_minor": 0
      },
      "text/plain": [
       "Training: 0it [00:00, ?it/s]"
      ]
     },
     "metadata": {},
     "output_type": "display_data"
    }
   ],
   "source": [
    "trainer.fit(\n",
    "    net,\n",
    "    train_dataloaders=train_dataloader,\n",
    ")"
   ]
  },
  {
   "cell_type": "code",
   "execution_count": 91,
   "metadata": {},
   "outputs": [],
   "source": [
    "training_cutoff = df_train[\"time_idx\"].max()\n",
    "validation = TimeSeriesDataSet.from_dataset(training, pd.concat([df_train, df_test]).reset_index(), min_prediction_idx=training_cutoff + 1)\n",
    "val_dataloader = validation.to_dataloader(train=False, batch_size=batch_size, num_workers=0)"
   ]
  },
  {
   "cell_type": "code",
   "execution_count": 92,
   "metadata": {},
   "outputs": [],
   "source": [
    "pred, ind = net.predict(val_dataloader, return_index=True)"
   ]
  },
  {
   "cell_type": "code",
   "execution_count": 93,
   "metadata": {},
   "outputs": [
    {
     "data": {
      "text/html": [
       "<div>\n",
       "<style scoped>\n",
       "    .dataframe tbody tr th:only-of-type {\n",
       "        vertical-align: middle;\n",
       "    }\n",
       "\n",
       "    .dataframe tbody tr th {\n",
       "        vertical-align: top;\n",
       "    }\n",
       "\n",
       "    .dataframe thead th {\n",
       "        text-align: right;\n",
       "    }\n",
       "</style>\n",
       "<table border=\"1\" class=\"dataframe\">\n",
       "  <thead>\n",
       "    <tr style=\"text-align: right;\">\n",
       "      <th></th>\n",
       "      <th>Store_id</th>\n",
       "      <th>SKU_id</th>\n",
       "      <th>Date</th>\n",
       "      <th>Promo</th>\n",
       "      <th>Demand</th>\n",
       "      <th>Regular_Price</th>\n",
       "      <th>Promo_Price</th>\n",
       "      <th>pred</th>\n",
       "    </tr>\n",
       "  </thead>\n",
       "  <tbody>\n",
       "    <tr>\n",
       "      <th>0</th>\n",
       "      <td>1</td>\n",
       "      <td>1</td>\n",
       "      <td>2016-05-23</td>\n",
       "      <td>1.0</td>\n",
       "      <td>NaN</td>\n",
       "      <td>128.98</td>\n",
       "      <td>119.6</td>\n",
       "      <td>None</td>\n",
       "    </tr>\n",
       "    <tr>\n",
       "      <th>1</th>\n",
       "      <td>1</td>\n",
       "      <td>1</td>\n",
       "      <td>2016-05-24</td>\n",
       "      <td>NaN</td>\n",
       "      <td>NaN</td>\n",
       "      <td>128.98</td>\n",
       "      <td>NaN</td>\n",
       "      <td>None</td>\n",
       "    </tr>\n",
       "    <tr>\n",
       "      <th>2</th>\n",
       "      <td>1</td>\n",
       "      <td>1</td>\n",
       "      <td>2016-05-25</td>\n",
       "      <td>NaN</td>\n",
       "      <td>NaN</td>\n",
       "      <td>131.70</td>\n",
       "      <td>NaN</td>\n",
       "      <td>None</td>\n",
       "    </tr>\n",
       "    <tr>\n",
       "      <th>3</th>\n",
       "      <td>1</td>\n",
       "      <td>1</td>\n",
       "      <td>2016-05-26</td>\n",
       "      <td>NaN</td>\n",
       "      <td>NaN</td>\n",
       "      <td>131.70</td>\n",
       "      <td>NaN</td>\n",
       "      <td>None</td>\n",
       "    </tr>\n",
       "    <tr>\n",
       "      <th>4</th>\n",
       "      <td>1</td>\n",
       "      <td>1</td>\n",
       "      <td>2016-05-27</td>\n",
       "      <td>NaN</td>\n",
       "      <td>NaN</td>\n",
       "      <td>131.70</td>\n",
       "      <td>NaN</td>\n",
       "      <td>None</td>\n",
       "    </tr>\n",
       "  </tbody>\n",
       "</table>\n",
       "</div>"
      ],
      "text/plain": [
       "   Store_id  SKU_id       Date  Promo  Demand  Regular_Price  Promo_Price  \\\n",
       "0         1       1 2016-05-23    1.0     NaN         128.98        119.6   \n",
       "1         1       1 2016-05-24    NaN     NaN         128.98          NaN   \n",
       "2         1       1 2016-05-25    NaN     NaN         131.70          NaN   \n",
       "3         1       1 2016-05-26    NaN     NaN         131.70          NaN   \n",
       "4         1       1 2016-05-27    NaN     NaN         131.70          NaN   \n",
       "\n",
       "   pred  \n",
       "0  None  \n",
       "1  None  \n",
       "2  None  \n",
       "3  None  \n",
       "4  None  "
      ]
     },
     "execution_count": 93,
     "metadata": {},
     "output_type": "execute_result"
    }
   ],
   "source": [
    "res_test = pd.read_csv('test_kaggle.csv')\n",
    "res_test['Date'] = pd.to_datetime(res_test['Date'])\n",
    "res_test['pred'] = None\n",
    "res_test.head()"
   ]
  },
  {
   "cell_type": "code",
   "execution_count": 94,
   "metadata": {},
   "outputs": [],
   "source": [
    "for i in range(pred.shape[0]):\n",
    "    store, sku = int(ind.iloc[i]['Store_id']), int(ind.iloc[i]['SKU_id'])\n",
    "    res_test.loc[(res_test['Store_id'] == store) & (res_test['SKU_id'] == sku), 'pred'] = pred[i].numpy()"
   ]
  },
  {
   "cell_type": "code",
   "execution_count": 95,
   "metadata": {},
   "outputs": [
    {
     "data": {
      "text/html": [
       "<div>\n",
       "<style scoped>\n",
       "    .dataframe tbody tr th:only-of-type {\n",
       "        vertical-align: middle;\n",
       "    }\n",
       "\n",
       "    .dataframe tbody tr th {\n",
       "        vertical-align: top;\n",
       "    }\n",
       "\n",
       "    .dataframe thead th {\n",
       "        text-align: right;\n",
       "    }\n",
       "</style>\n",
       "<table border=\"1\" class=\"dataframe\">\n",
       "  <thead>\n",
       "    <tr style=\"text-align: right;\">\n",
       "      <th></th>\n",
       "      <th>id</th>\n",
       "      <th>Demand</th>\n",
       "    </tr>\n",
       "  </thead>\n",
       "  <tbody>\n",
       "    <tr>\n",
       "      <th>0</th>\n",
       "      <td>0</td>\n",
       "      <td>661.365900</td>\n",
       "    </tr>\n",
       "    <tr>\n",
       "      <th>1</th>\n",
       "      <td>1</td>\n",
       "      <td>150.649200</td>\n",
       "    </tr>\n",
       "    <tr>\n",
       "      <th>2</th>\n",
       "      <td>2</td>\n",
       "      <td>133.698240</td>\n",
       "    </tr>\n",
       "    <tr>\n",
       "      <th>3</th>\n",
       "      <td>3</td>\n",
       "      <td>142.240630</td>\n",
       "    </tr>\n",
       "    <tr>\n",
       "      <th>4</th>\n",
       "      <td>4</td>\n",
       "      <td>136.909260</td>\n",
       "    </tr>\n",
       "    <tr>\n",
       "      <th>...</th>\n",
       "      <td>...</td>\n",
       "      <td>...</td>\n",
       "    </tr>\n",
       "    <tr>\n",
       "      <th>5965</th>\n",
       "      <td>5965</td>\n",
       "      <td>3.979614</td>\n",
       "    </tr>\n",
       "    <tr>\n",
       "      <th>5966</th>\n",
       "      <td>5966</td>\n",
       "      <td>6.695038</td>\n",
       "    </tr>\n",
       "    <tr>\n",
       "      <th>5967</th>\n",
       "      <td>5967</td>\n",
       "      <td>6.142532</td>\n",
       "    </tr>\n",
       "    <tr>\n",
       "      <th>5968</th>\n",
       "      <td>5968</td>\n",
       "      <td>2.497055</td>\n",
       "    </tr>\n",
       "    <tr>\n",
       "      <th>5969</th>\n",
       "      <td>5969</td>\n",
       "      <td>7.125687</td>\n",
       "    </tr>\n",
       "  </tbody>\n",
       "</table>\n",
       "<p>5970 rows × 2 columns</p>\n",
       "</div>"
      ],
      "text/plain": [
       "        id      Demand\n",
       "0        0  661.365900\n",
       "1        1  150.649200\n",
       "2        2  133.698240\n",
       "3        3  142.240630\n",
       "4        4  136.909260\n",
       "...    ...         ...\n",
       "5965  5965    3.979614\n",
       "5966  5966    6.695038\n",
       "5967  5967    6.142532\n",
       "5968  5968    2.497055\n",
       "5969  5969    7.125687\n",
       "\n",
       "[5970 rows x 2 columns]"
      ]
     },
     "execution_count": 95,
     "metadata": {},
     "output_type": "execute_result"
    }
   ],
   "source": [
    "ans_68 = pd.read_csv('68.csv')\n",
    "ans_68"
   ]
  },
  {
   "cell_type": "code",
   "execution_count": 96,
   "metadata": {},
   "outputs": [],
   "source": [
    "res_test.loc[res_test['pred'].isna(), 'pred'] = ans_68[res_test['pred'].isna()]['Demand'].values"
   ]
  },
  {
   "cell_type": "code",
   "execution_count": 97,
   "metadata": {},
   "outputs": [],
   "source": [
    "res_test = res_test[['pred']].rename(columns={'pred' : 'Demand'})\n",
    "res_test.to_csv('ans.csv', index_label='id')"
   ]
  },
  {
   "cell_type": "code",
   "execution_count": 98,
   "metadata": {},
   "outputs": [
    {
     "data": {
      "text/html": [
       "<div>\n",
       "<style scoped>\n",
       "    .dataframe tbody tr th:only-of-type {\n",
       "        vertical-align: middle;\n",
       "    }\n",
       "\n",
       "    .dataframe tbody tr th {\n",
       "        vertical-align: top;\n",
       "    }\n",
       "\n",
       "    .dataframe thead th {\n",
       "        text-align: right;\n",
       "    }\n",
       "</style>\n",
       "<table border=\"1\" class=\"dataframe\">\n",
       "  <thead>\n",
       "    <tr style=\"text-align: right;\">\n",
       "      <th></th>\n",
       "      <th>Demand</th>\n",
       "    </tr>\n",
       "  </thead>\n",
       "  <tbody>\n",
       "    <tr>\n",
       "      <th>0</th>\n",
       "      <td>524.196106</td>\n",
       "    </tr>\n",
       "    <tr>\n",
       "      <th>1</th>\n",
       "      <td>220.721985</td>\n",
       "    </tr>\n",
       "    <tr>\n",
       "      <th>2</th>\n",
       "      <td>166.175003</td>\n",
       "    </tr>\n",
       "    <tr>\n",
       "      <th>3</th>\n",
       "      <td>132.875427</td>\n",
       "    </tr>\n",
       "    <tr>\n",
       "      <th>4</th>\n",
       "      <td>146.926437</td>\n",
       "    </tr>\n",
       "    <tr>\n",
       "      <th>...</th>\n",
       "      <td>...</td>\n",
       "    </tr>\n",
       "    <tr>\n",
       "      <th>5965</th>\n",
       "      <td>3.979614</td>\n",
       "    </tr>\n",
       "    <tr>\n",
       "      <th>5966</th>\n",
       "      <td>6.695038</td>\n",
       "    </tr>\n",
       "    <tr>\n",
       "      <th>5967</th>\n",
       "      <td>6.142532</td>\n",
       "    </tr>\n",
       "    <tr>\n",
       "      <th>5968</th>\n",
       "      <td>2.497055</td>\n",
       "    </tr>\n",
       "    <tr>\n",
       "      <th>5969</th>\n",
       "      <td>7.125687</td>\n",
       "    </tr>\n",
       "  </tbody>\n",
       "</table>\n",
       "<p>5970 rows × 1 columns</p>\n",
       "</div>"
      ],
      "text/plain": [
       "          Demand\n",
       "0     524.196106\n",
       "1     220.721985\n",
       "2     166.175003\n",
       "3     132.875427\n",
       "4     146.926437\n",
       "...          ...\n",
       "5965    3.979614\n",
       "5966    6.695038\n",
       "5967    6.142532\n",
       "5968    2.497055\n",
       "5969    7.125687\n",
       "\n",
       "[5970 rows x 1 columns]"
      ]
     },
     "execution_count": 98,
     "metadata": {},
     "output_type": "execute_result"
    }
   ],
   "source": [
    "res_test"
   ]
  },
  {
   "cell_type": "code",
   "execution_count": 99,
   "metadata": {},
   "outputs": [
    {
     "data": {
      "text/html": [
       "<div>\n",
       "<style scoped>\n",
       "    .dataframe tbody tr th:only-of-type {\n",
       "        vertical-align: middle;\n",
       "    }\n",
       "\n",
       "    .dataframe tbody tr th {\n",
       "        vertical-align: top;\n",
       "    }\n",
       "\n",
       "    .dataframe thead th {\n",
       "        text-align: right;\n",
       "    }\n",
       "</style>\n",
       "<table border=\"1\" class=\"dataframe\">\n",
       "  <thead>\n",
       "    <tr style=\"text-align: right;\">\n",
       "      <th></th>\n",
       "      <th>Store_id</th>\n",
       "      <th>SKU_id</th>\n",
       "      <th>Date</th>\n",
       "      <th>Promo</th>\n",
       "      <th>Demand</th>\n",
       "      <th>Regular_Price</th>\n",
       "      <th>Promo_Price</th>\n",
       "      <th>pred</th>\n",
       "    </tr>\n",
       "  </thead>\n",
       "  <tbody>\n",
       "    <tr>\n",
       "      <th>0</th>\n",
       "      <td>1</td>\n",
       "      <td>1</td>\n",
       "      <td>2016-05-23</td>\n",
       "      <td>1.0</td>\n",
       "      <td>NaN</td>\n",
       "      <td>128.98</td>\n",
       "      <td>119.6</td>\n",
       "      <td>None</td>\n",
       "    </tr>\n",
       "    <tr>\n",
       "      <th>1</th>\n",
       "      <td>1</td>\n",
       "      <td>1</td>\n",
       "      <td>2016-05-24</td>\n",
       "      <td>NaN</td>\n",
       "      <td>NaN</td>\n",
       "      <td>128.98</td>\n",
       "      <td>NaN</td>\n",
       "      <td>None</td>\n",
       "    </tr>\n",
       "    <tr>\n",
       "      <th>2</th>\n",
       "      <td>1</td>\n",
       "      <td>1</td>\n",
       "      <td>2016-05-25</td>\n",
       "      <td>NaN</td>\n",
       "      <td>NaN</td>\n",
       "      <td>131.70</td>\n",
       "      <td>NaN</td>\n",
       "      <td>None</td>\n",
       "    </tr>\n",
       "    <tr>\n",
       "      <th>3</th>\n",
       "      <td>1</td>\n",
       "      <td>1</td>\n",
       "      <td>2016-05-26</td>\n",
       "      <td>NaN</td>\n",
       "      <td>NaN</td>\n",
       "      <td>131.70</td>\n",
       "      <td>NaN</td>\n",
       "      <td>None</td>\n",
       "    </tr>\n",
       "    <tr>\n",
       "      <th>4</th>\n",
       "      <td>1</td>\n",
       "      <td>1</td>\n",
       "      <td>2016-05-27</td>\n",
       "      <td>NaN</td>\n",
       "      <td>NaN</td>\n",
       "      <td>131.70</td>\n",
       "      <td>NaN</td>\n",
       "      <td>None</td>\n",
       "    </tr>\n",
       "  </tbody>\n",
       "</table>\n",
       "</div>"
      ],
      "text/plain": [
       "   Store_id  SKU_id       Date  Promo  Demand  Regular_Price  Promo_Price  \\\n",
       "0         1       1 2016-05-23    1.0     NaN         128.98        119.6   \n",
       "1         1       1 2016-05-24    NaN     NaN         128.98          NaN   \n",
       "2         1       1 2016-05-25    NaN     NaN         131.70          NaN   \n",
       "3         1       1 2016-05-26    NaN     NaN         131.70          NaN   \n",
       "4         1       1 2016-05-27    NaN     NaN         131.70          NaN   \n",
       "\n",
       "   pred  \n",
       "0  None  \n",
       "1  None  \n",
       "2  None  \n",
       "3  None  \n",
       "4  None  "
      ]
     },
     "execution_count": 99,
     "metadata": {},
     "output_type": "execute_result"
    }
   ],
   "source": [
    "res_test = pd.read_csv('test_kaggle.csv')\n",
    "res_test['Date'] = pd.to_datetime(res_test['Date'])\n",
    "res_test['pred'] = None\n",
    "res_test.head()"
   ]
  },
  {
   "cell_type": "code",
   "execution_count": 100,
   "metadata": {},
   "outputs": [],
   "source": [
    "for i in range(pred.shape[0]):\n",
    "    store, sku = int(ind.iloc[i]['Store_id']), int(ind.iloc[i]['SKU_id'])\n",
    "    res_test.loc[(res_test['Store_id'] == store) & (res_test['SKU_id'] == sku), 'pred'] = pred[i].numpy()"
   ]
  },
  {
   "cell_type": "code",
   "execution_count": 101,
   "metadata": {},
   "outputs": [
    {
     "data": {
      "text/html": [
       "<div>\n",
       "<style scoped>\n",
       "    .dataframe tbody tr th:only-of-type {\n",
       "        vertical-align: middle;\n",
       "    }\n",
       "\n",
       "    .dataframe tbody tr th {\n",
       "        vertical-align: top;\n",
       "    }\n",
       "\n",
       "    .dataframe thead th {\n",
       "        text-align: right;\n",
       "    }\n",
       "</style>\n",
       "<table border=\"1\" class=\"dataframe\">\n",
       "  <thead>\n",
       "    <tr style=\"text-align: right;\">\n",
       "      <th></th>\n",
       "      <th>id</th>\n",
       "      <th>Demand</th>\n",
       "    </tr>\n",
       "  </thead>\n",
       "  <tbody>\n",
       "    <tr>\n",
       "      <th>0</th>\n",
       "      <td>0</td>\n",
       "      <td>661.365900</td>\n",
       "    </tr>\n",
       "    <tr>\n",
       "      <th>1</th>\n",
       "      <td>1</td>\n",
       "      <td>150.649200</td>\n",
       "    </tr>\n",
       "    <tr>\n",
       "      <th>2</th>\n",
       "      <td>2</td>\n",
       "      <td>133.698240</td>\n",
       "    </tr>\n",
       "    <tr>\n",
       "      <th>3</th>\n",
       "      <td>3</td>\n",
       "      <td>142.240630</td>\n",
       "    </tr>\n",
       "    <tr>\n",
       "      <th>4</th>\n",
       "      <td>4</td>\n",
       "      <td>136.909260</td>\n",
       "    </tr>\n",
       "    <tr>\n",
       "      <th>...</th>\n",
       "      <td>...</td>\n",
       "      <td>...</td>\n",
       "    </tr>\n",
       "    <tr>\n",
       "      <th>5965</th>\n",
       "      <td>5965</td>\n",
       "      <td>3.979614</td>\n",
       "    </tr>\n",
       "    <tr>\n",
       "      <th>5966</th>\n",
       "      <td>5966</td>\n",
       "      <td>6.695038</td>\n",
       "    </tr>\n",
       "    <tr>\n",
       "      <th>5967</th>\n",
       "      <td>5967</td>\n",
       "      <td>6.142532</td>\n",
       "    </tr>\n",
       "    <tr>\n",
       "      <th>5968</th>\n",
       "      <td>5968</td>\n",
       "      <td>2.497055</td>\n",
       "    </tr>\n",
       "    <tr>\n",
       "      <th>5969</th>\n",
       "      <td>5969</td>\n",
       "      <td>7.125687</td>\n",
       "    </tr>\n",
       "  </tbody>\n",
       "</table>\n",
       "<p>5970 rows × 2 columns</p>\n",
       "</div>"
      ],
      "text/plain": [
       "        id      Demand\n",
       "0        0  661.365900\n",
       "1        1  150.649200\n",
       "2        2  133.698240\n",
       "3        3  142.240630\n",
       "4        4  136.909260\n",
       "...    ...         ...\n",
       "5965  5965    3.979614\n",
       "5966  5966    6.695038\n",
       "5967  5967    6.142532\n",
       "5968  5968    2.497055\n",
       "5969  5969    7.125687\n",
       "\n",
       "[5970 rows x 2 columns]"
      ]
     },
     "execution_count": 101,
     "metadata": {},
     "output_type": "execute_result"
    }
   ],
   "source": [
    "ans_68 = pd.read_csv('68.csv')\n",
    "ans_68"
   ]
  },
  {
   "cell_type": "code",
   "execution_count": 102,
   "metadata": {},
   "outputs": [],
   "source": [
    "res_test.loc[res_test['pred'].isna(), 'pred'] = ans_68[res_test['pred'].isna()]['Demand'].values"
   ]
  },
  {
   "cell_type": "code",
   "execution_count": 103,
   "metadata": {},
   "outputs": [],
   "source": [
    "res_test = res_test[['pred']].rename(columns={'pred' : 'Demand'})\n",
    "res_test.to_csv('ans.csv', index_label='id')"
   ]
  },
  {
   "cell_type": "code",
   "execution_count": 104,
   "metadata": {},
   "outputs": [
    {
     "data": {
      "text/html": [
       "<div>\n",
       "<style scoped>\n",
       "    .dataframe tbody tr th:only-of-type {\n",
       "        vertical-align: middle;\n",
       "    }\n",
       "\n",
       "    .dataframe tbody tr th {\n",
       "        vertical-align: top;\n",
       "    }\n",
       "\n",
       "    .dataframe thead th {\n",
       "        text-align: right;\n",
       "    }\n",
       "</style>\n",
       "<table border=\"1\" class=\"dataframe\">\n",
       "  <thead>\n",
       "    <tr style=\"text-align: right;\">\n",
       "      <th></th>\n",
       "      <th>Demand</th>\n",
       "    </tr>\n",
       "  </thead>\n",
       "  <tbody>\n",
       "    <tr>\n",
       "      <th>0</th>\n",
       "      <td>524.196106</td>\n",
       "    </tr>\n",
       "    <tr>\n",
       "      <th>1</th>\n",
       "      <td>220.721985</td>\n",
       "    </tr>\n",
       "    <tr>\n",
       "      <th>2</th>\n",
       "      <td>166.175003</td>\n",
       "    </tr>\n",
       "    <tr>\n",
       "      <th>3</th>\n",
       "      <td>132.875427</td>\n",
       "    </tr>\n",
       "    <tr>\n",
       "      <th>4</th>\n",
       "      <td>146.926437</td>\n",
       "    </tr>\n",
       "    <tr>\n",
       "      <th>...</th>\n",
       "      <td>...</td>\n",
       "    </tr>\n",
       "    <tr>\n",
       "      <th>5965</th>\n",
       "      <td>3.979614</td>\n",
       "    </tr>\n",
       "    <tr>\n",
       "      <th>5966</th>\n",
       "      <td>6.695038</td>\n",
       "    </tr>\n",
       "    <tr>\n",
       "      <th>5967</th>\n",
       "      <td>6.142532</td>\n",
       "    </tr>\n",
       "    <tr>\n",
       "      <th>5968</th>\n",
       "      <td>2.497055</td>\n",
       "    </tr>\n",
       "    <tr>\n",
       "      <th>5969</th>\n",
       "      <td>7.125687</td>\n",
       "    </tr>\n",
       "  </tbody>\n",
       "</table>\n",
       "<p>5970 rows × 1 columns</p>\n",
       "</div>"
      ],
      "text/plain": [
       "          Demand\n",
       "0     524.196106\n",
       "1     220.721985\n",
       "2     166.175003\n",
       "3     132.875427\n",
       "4     146.926437\n",
       "...          ...\n",
       "5965    3.979614\n",
       "5966    6.695038\n",
       "5967    6.142532\n",
       "5968    2.497055\n",
       "5969    7.125687\n",
       "\n",
       "[5970 rows x 1 columns]"
      ]
     },
     "execution_count": 104,
     "metadata": {},
     "output_type": "execute_result"
    }
   ],
   "source": [
    "res_test"
   ]
  },
  {
   "cell_type": "code",
   "execution_count": null,
   "metadata": {},
   "outputs": [],
   "source": []
  }
 ],
 "metadata": {
  "kernelspec": {
   "display_name": "Python 3",
   "language": "python",
   "name": "python3"
  },
  "language_info": {
   "codemirror_mode": {
    "name": "ipython",
    "version": 3
   },
   "file_extension": ".py",
   "mimetype": "text/x-python",
   "name": "python",
   "nbconvert_exporter": "python",
   "pygments_lexer": "ipython3",
   "version": "3.8.8"
  }
 },
 "nbformat": 4,
 "nbformat_minor": 2
}
